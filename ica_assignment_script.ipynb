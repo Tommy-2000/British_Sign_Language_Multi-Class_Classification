{
 "cells": [
  {
   "cell_type": "code",
   "execution_count": null,
   "metadata": {},
   "outputs": [],
   "source": [
    "# -*- coding: utf-8 -*-\n",
    "\"\"\"\n",
    "ICA Assignment - Element 1 - Machine Learning Application\n",
    "British Sign Language Phrase Recognition - Multi-Class Classification\n",
    "\"\"\""
   ]
  },
  {
   "cell_type": "markdown",
   "metadata": {},
   "source": [
    "%% 1. Import Libraries and Data"
   ]
  },
  {
   "cell_type": "code",
   "execution_count": null,
   "metadata": {},
   "outputs": [],
   "source": [
    "print(\"Import Libraries and Data\")"
   ]
  },
  {
   "cell_type": "markdown",
   "metadata": {},
   "source": [
    "Import any in-built Python libraries"
   ]
  },
  {
   "cell_type": "code",
   "execution_count": 1,
   "metadata": {},
   "outputs": [],
   "source": [
    "from collections import Counter"
   ]
  },
  {
   "cell_type": "markdown",
   "metadata": {},
   "source": [
    "Import data processing and visualisation libraries"
   ]
  },
  {
   "cell_type": "code",
   "execution_count": 2,
   "metadata": {},
   "outputs": [],
   "source": [
    "import os\n",
    "import sys\n",
    "import time\n",
    "import pandas as pd\n",
    "import numpy as np\n",
    "import sklearn as sk\n",
    "import matplotlib.pyplot as plt\n",
    "import seaborn as sns"
   ]
  },
  {
   "cell_type": "markdown",
   "metadata": {},
   "source": [
    "Import ML libraries from SciKit-Learn"
   ]
  },
  {
   "cell_type": "code",
   "execution_count": 3,
   "metadata": {},
   "outputs": [],
   "source": [
    "from sklearn import metrics\n",
    "from sklearn.model_selection import train_test_split\n",
    "from sklearn import preprocessing\n",
    "from sklearn.model_selection import cross_val_score\n",
    "from sklearn.decomposition import PCA\n",
    "from sklearn.pipeline import Pipeline"
   ]
  },
  {
   "cell_type": "markdown",
   "metadata": {},
   "source": [
    "Import ML models from SciKit-Learn"
   ]
  },
  {
   "cell_type": "code",
   "execution_count": 4,
   "metadata": {},
   "outputs": [],
   "source": [
    "from sklearn.svm import SVC\n",
    "from sklearn.naive_bayes import GaussianNB\n",
    "from sklearn.neighbors import KNeighborsClassifier\n",
    "from sklearn.ensemble import RandomForestClassifier"
   ]
  },
  {
   "cell_type": "markdown",
   "metadata": {},
   "source": [
    "Import data from CSV file to pandas dataframe"
   ]
  },
  {
   "cell_type": "code",
   "execution_count": 5,
   "metadata": {},
   "outputs": [],
   "source": [
    "bsl_data = pd.read_csv(\n",
    "    './Dataset/BSL-leap-motion.csv', header=0, engine='python')"
   ]
  },
  {
   "cell_type": "markdown",
   "metadata": {},
   "source": [
    "Save a copy of the unmodified dataset"
   ]
  },
  {
   "cell_type": "code",
   "execution_count": 6,
   "metadata": {},
   "outputs": [],
   "source": [
    "bsl_data_RAW_COPY = bsl_data.copy()"
   ]
  },
  {
   "cell_type": "markdown",
   "metadata": {},
   "source": [
    "%% 2. Exploratory Data Analysis"
   ]
  },
  {
   "cell_type": "code",
   "execution_count": null,
   "metadata": {},
   "outputs": [],
   "source": [
    "print(\"Exploratory Data Analysis\")"
   ]
  },
  {
   "cell_type": "code",
   "execution_count": null,
   "metadata": {},
   "outputs": [],
   "source": [
    "print(\"\\n\")"
   ]
  },
  {
   "cell_type": "markdown",
   "metadata": {},
   "source": [
    "Check the length, shape and total number of elements in the imported dataset"
   ]
  },
  {
   "cell_type": "code",
   "execution_count": 7,
   "metadata": {},
   "outputs": [
    {
     "name": "stdout",
     "output_type": "stream",
     "text": [
      "Dataset Length: \n",
      " 16497\n",
      "Dataset Shape: \n",
      " (16497, 429)\n",
      "Dataset Total Number of Elements: \n",
      " 7077213\n"
     ]
    }
   ],
   "source": [
    "print(\"Dataset Length:\", \"\\n\", len(bsl_data))\n",
    "print(\"Dataset Shape:\", \"\\n\", bsl_data.shape)\n",
    "print(\"Dataset Total Number of Elements:\", \"\\n\", bsl_data.size)"
   ]
  },
  {
   "cell_type": "code",
   "execution_count": null,
   "metadata": {},
   "outputs": [],
   "source": [
    "print(\"\\n\")"
   ]
  },
  {
   "cell_type": "markdown",
   "metadata": {},
   "source": [
    "Printing the first 10 rows of the dataset"
   ]
  },
  {
   "cell_type": "code",
   "execution_count": 8,
   "metadata": {},
   "outputs": [
    {
     "name": "stdout",
     "output_type": "stream",
     "text": [
      "First 10 Rows: \n",
      "    left_palm_position_x  left_palm_position_y  left_palm_position_z  \\\n",
      "0           -707.805542            707.611755            589.008545   \n",
      "1           -710.755981            719.085449            592.499207   \n",
      "2           -710.590027            713.212830            600.196594   \n",
      "3           -705.993225            700.514160            591.618957   \n",
      "4           -685.203064            700.793823            594.919678   \n",
      "5           -545.851196            978.157410            331.917999   \n",
      "6           -406.879883            985.005920            249.105255   \n",
      "7           -267.667816            768.496338            181.075638   \n",
      "8            523.261353            468.482605             97.547783   \n",
      "9           -151.660568            427.757538            121.288750   \n",
      "\n",
      "   left_palm_normal_x  left_palm_normal_y  left_palm_normal_z  \\\n",
      "0            0.195482           -0.019763           -0.980508   \n",
      "1            0.223380           -0.194884           -0.955051   \n",
      "2            0.198838           -0.222316           -0.954484   \n",
      "3            0.041660           -0.225691           -0.973308   \n",
      "4            0.078385           -0.408735           -0.909281   \n",
      "5            0.881646            0.307391            0.358066   \n",
      "6            0.987328           -0.158649           -0.003825   \n",
      "7            0.985978           -0.165234            0.023348   \n",
      "8           -0.853136           -0.358885            0.378629   \n",
      "9            0.441040           -0.803922           -0.398989   \n",
      "\n",
      "   left_hand_direction_x  left_hand_direction_y  left_hand_direction_z  \\\n",
      "0               0.540868               0.836173               0.090978   \n",
      "1               0.648259               0.761411              -0.003747   \n",
      "2               0.670514               0.741165              -0.032949   \n",
      "3               0.733991               0.667847              -0.123444   \n",
      "4               0.873516               0.467718              -0.134944   \n",
      "5              -0.339610               0.940115               0.029138   \n",
      "6               0.158685               0.987251               0.012420   \n",
      "7               0.166660               0.982127              -0.087474   \n",
      "8               0.073504              -0.801228              -0.593828   \n",
      "9               0.414997               0.576857              -0.703572   \n",
      "\n",
      "   left_palm_velocity_x  ...  right_pinky_distal_start_x  \\\n",
      "0            -40.609253  ...                         0.0   \n",
      "1            -51.392498  ...                         0.0   \n",
      "2             -3.889975  ...                         0.0   \n",
      "3             73.558739  ...                         0.0   \n",
      "4            144.546783  ...                         0.0   \n",
      "5            400.522034  ...                         0.0   \n",
      "6            544.254700  ...                         0.0   \n",
      "7            819.415772  ...                         0.0   \n",
      "8            301.822632  ...                         0.0   \n",
      "9             26.746288  ...                         0.0   \n",
      "\n",
      "   right_pinky_distal_start_y  right_pinky_distal_start_z  \\\n",
      "0                         0.0                         0.0   \n",
      "1                         0.0                         0.0   \n",
      "2                         0.0                         0.0   \n",
      "3                         0.0                         0.0   \n",
      "4                         0.0                         0.0   \n",
      "5                         0.0                         0.0   \n",
      "6                         0.0                         0.0   \n",
      "7                         0.0                         0.0   \n",
      "8                         0.0                         0.0   \n",
      "9                         0.0                         0.0   \n",
      "\n",
      "   right_pinky_distal_end_x  right_pinky_distal_end_y  \\\n",
      "0                       0.0                       0.0   \n",
      "1                       0.0                       0.0   \n",
      "2                       0.0                       0.0   \n",
      "3                       0.0                       0.0   \n",
      "4                       0.0                       0.0   \n",
      "5                       0.0                       0.0   \n",
      "6                       0.0                       0.0   \n",
      "7                       0.0                       0.0   \n",
      "8                       0.0                       0.0   \n",
      "9                       0.0                       0.0   \n",
      "\n",
      "   right_pinky_distal_end_z  right_pinky_distal_direction_x  \\\n",
      "0                       0.0                             0.0   \n",
      "1                       0.0                             0.0   \n",
      "2                       0.0                             0.0   \n",
      "3                       0.0                             0.0   \n",
      "4                       0.0                             0.0   \n",
      "5                       0.0                             0.0   \n",
      "6                       0.0                             0.0   \n",
      "7                       0.0                             0.0   \n",
      "8                       0.0                             0.0   \n",
      "9                       0.0                             0.0   \n",
      "\n",
      "   right_pinky_distal_direction_y  right_pinky_distal_direction_z    CLASS  \n",
      "0                             0.0                             0.0  AIRPORT  \n",
      "1                             0.0                             0.0  AIRPORT  \n",
      "2                             0.0                             0.0  AIRPORT  \n",
      "3                             0.0                             0.0  AIRPORT  \n",
      "4                             0.0                             0.0  AIRPORT  \n",
      "5                             0.0                             0.0  AIRPORT  \n",
      "6                             0.0                             0.0  AIRPORT  \n",
      "7                             0.0                             0.0  AIRPORT  \n",
      "8                             0.0                             0.0  AIRPORT  \n",
      "9                             0.0                             0.0  AIRPORT  \n",
      "\n",
      "[10 rows x 429 columns]\n"
     ]
    }
   ],
   "source": [
    "print(\"First 10 Rows:\", \"\\n\", bsl_data.head(10))"
   ]
  },
  {
   "cell_type": "code",
   "execution_count": null,
   "metadata": {},
   "outputs": [],
   "source": [
    "print(\"\\n\")"
   ]
  },
  {
   "cell_type": "markdown",
   "metadata": {},
   "source": [
    "Printing the last 10 rows of the dataset"
   ]
  },
  {
   "cell_type": "code",
   "execution_count": 8,
   "metadata": {},
   "outputs": [
    {
     "name": "stdout",
     "output_type": "stream",
     "text": [
      "Last 10 Rows: \n",
      "        left_palm_position_x  left_palm_position_y  left_palm_position_z  \\\n",
      "16487             66.990784            220.180496             93.941895   \n",
      "16488             88.251129            268.684875            118.956520   \n",
      "16489            109.418129            311.988434            149.207962   \n",
      "16490             87.700134            276.115051            142.185745   \n",
      "16491             63.841480            204.781998            125.021728   \n",
      "16492             67.586792            214.137756            141.224442   \n",
      "16493             80.525444            250.807724            169.304031   \n",
      "16494            110.724731            308.592651            221.814713   \n",
      "16495             80.774185            236.855576            190.842941   \n",
      "16496             82.560265            156.845688            112.025520   \n",
      "\n",
      "       left_palm_normal_x  left_palm_normal_y  left_palm_normal_z  \\\n",
      "16487           -0.439234           -0.544422            0.714617   \n",
      "16488           -0.428660           -0.568604            0.702097   \n",
      "16489           -0.440281           -0.612399            0.656598   \n",
      "16490           -0.417693           -0.602006            0.680530   \n",
      "16491           -0.348550           -0.672994            0.652375   \n",
      "16492           -0.288843           -0.749880            0.595189   \n",
      "16493           -0.395057           -0.690707            0.605684   \n",
      "16494           -0.515701           -0.643517            0.565631   \n",
      "16495           -0.395454           -0.731243            0.555787   \n",
      "16496           -0.015672           -0.951388            0.307594   \n",
      "\n",
      "       left_hand_direction_x  left_hand_direction_y  left_hand_direction_z  \\\n",
      "16487              -0.597634              -0.416838              -0.684894   \n",
      "16488              -0.641408              -0.355763              -0.679727   \n",
      "16489              -0.644594              -0.293477              -0.705953   \n",
      "16490              -0.649244              -0.326220              -0.687069   \n",
      "16491              -0.590182              -0.383130              -0.710561   \n",
      "16492              -0.623886              -0.324123              -0.711133   \n",
      "16493              -0.679944              -0.223503              -0.698371   \n",
      "16494              -0.632240              -0.159710              -0.758132   \n",
      "16495              -0.653800              -0.200897              -0.729511   \n",
      "16496              -0.507757              -0.257441              -0.822135   \n",
      "\n",
      "       left_palm_velocity_x  ...  right_pinky_distal_start_x  \\\n",
      "16487             31.656527  ...                 -845.501587   \n",
      "16488             90.289284  ...                 -856.842224   \n",
      "16489             26.646118  ...                 -883.253662   \n",
      "16490           -165.932495  ...                 -880.268921   \n",
      "16491             22.358648  ...                 -911.466797   \n",
      "16492              6.417247  ...                 -924.740295   \n",
      "16493             97.065239  ...                 -928.647217   \n",
      "16494             -2.486295  ...                 -915.488342   \n",
      "16495           -258.127136  ...                 -911.440857   \n",
      "16496             -8.098556  ...                    0.000000   \n",
      "\n",
      "       right_pinky_distal_start_y  right_pinky_distal_start_z  \\\n",
      "16487                  560.646423                  414.927643   \n",
      "16488                  569.896423                  440.136200   \n",
      "16489                  536.086548                  485.337952   \n",
      "16490                  575.865662                  517.897888   \n",
      "16491                  589.889465                  556.915710   \n",
      "16492                  591.827026                  585.659180   \n",
      "16493                  575.241333                  616.321350   \n",
      "16494                  557.099793                  616.971252   \n",
      "16495                  525.080810                  655.752014   \n",
      "16496                    0.000000                    0.000000   \n",
      "\n",
      "       right_pinky_distal_end_x  right_pinky_distal_end_y  \\\n",
      "16487               -851.722107                559.757385   \n",
      "16488               -862.572632                569.263000   \n",
      "16489               -894.797363                537.326660   \n",
      "16490               -888.106995                577.856201   \n",
      "16491               -915.257996                589.380371   \n",
      "16492               -929.074646                592.329285   \n",
      "16493               -933.800049                573.762390   \n",
      "16494               -920.105347                556.549988   \n",
      "16495               -917.122375                525.943970   \n",
      "16496                  0.000000                  0.000000   \n",
      "\n",
      "       right_pinky_distal_end_z  right_pinky_distal_direction_x  \\\n",
      "16487                402.831329                        0.456349   \n",
      "16488                428.694061                        0.447250   \n",
      "16489                479.729096                        0.895280   \n",
      "16490                507.052521                        0.579376   \n",
      "16491                544.426941                        0.290258   \n",
      "16492                572.455872                        0.311698   \n",
      "16493                603.933594                        0.381748   \n",
      "16494                603.485291                        0.323660   \n",
      "16495                643.705261                        0.425670   \n",
      "16496                  0.000000                        0.000000   \n",
      "\n",
      "       right_pinky_distal_direction_y  right_pinky_distal_direction_z  CLASS  \n",
      "16487                        0.065221                        0.887407    YOU  \n",
      "16488                        0.049438                        0.893042    YOU  \n",
      "16489                       -0.096178                        0.434999    YOU  \n",
      "16490                       -0.147137                        0.801670    YOU  \n",
      "16491                        0.038977                        0.956154    YOU  \n",
      "16492                       -0.036119                        0.949495    YOU  \n",
      "16493                        0.109568                        0.917749    YOU  \n",
      "16494                        0.038542                        0.945388    YOU  \n",
      "16495                       -0.064669                        0.902565    YOU  \n",
      "16496                        0.000000                        0.000000    YOU  \n",
      "\n",
      "[10 rows x 429 columns]\n"
     ]
    }
   ],
   "source": [
    "print(\"Last 10 Rows:\", \"\\n\", bsl_data.tail(10))"
   ]
  },
  {
   "cell_type": "code",
   "execution_count": null,
   "metadata": {},
   "outputs": [],
   "source": [
    "print(\"\\n\")"
   ]
  },
  {
   "cell_type": "markdown",
   "metadata": {},
   "source": [
    "Printing the description of the dataset"
   ]
  },
  {
   "cell_type": "code",
   "execution_count": 9,
   "metadata": {},
   "outputs": [
    {
     "name": "stdout",
     "output_type": "stream",
     "text": [
      "Description of Dataset: \n",
      " <bound method DataFrame.info of        left_palm_position_x  left_palm_position_y  left_palm_position_z  \\\n",
      "0               -707.805542            707.611755            589.008545   \n",
      "1               -710.755981            719.085449            592.499207   \n",
      "2               -710.590027            713.212830            600.196594   \n",
      "3               -705.993225            700.514160            591.618957   \n",
      "4               -685.203064            700.793823            594.919678   \n",
      "...                     ...                   ...                   ...   \n",
      "16492             67.586792            214.137756            141.224442   \n",
      "16493             80.525444            250.807724            169.304031   \n",
      "16494            110.724731            308.592651            221.814713   \n",
      "16495             80.774185            236.855576            190.842941   \n",
      "16496             82.560265            156.845688            112.025520   \n",
      "\n",
      "       left_palm_normal_x  left_palm_normal_y  left_palm_normal_z  \\\n",
      "0                0.195482           -0.019763           -0.980508   \n",
      "1                0.223380           -0.194884           -0.955051   \n",
      "2                0.198838           -0.222316           -0.954484   \n",
      "3                0.041660           -0.225691           -0.973308   \n",
      "4                0.078385           -0.408735           -0.909281   \n",
      "...                   ...                 ...                 ...   \n",
      "16492           -0.288843           -0.749880            0.595189   \n",
      "16493           -0.395057           -0.690707            0.605684   \n",
      "16494           -0.515701           -0.643517            0.565631   \n",
      "16495           -0.395454           -0.731243            0.555787   \n",
      "16496           -0.015672           -0.951388            0.307594   \n",
      "\n",
      "       left_hand_direction_x  left_hand_direction_y  left_hand_direction_z  \\\n",
      "0                   0.540868               0.836173               0.090978   \n",
      "1                   0.648259               0.761411              -0.003747   \n",
      "2                   0.670514               0.741165              -0.032949   \n",
      "3                   0.733991               0.667847              -0.123444   \n",
      "4                   0.873516               0.467718              -0.134944   \n",
      "...                      ...                    ...                    ...   \n",
      "16492              -0.623886              -0.324123              -0.711133   \n",
      "16493              -0.679944              -0.223503              -0.698371   \n",
      "16494              -0.632240              -0.159710              -0.758132   \n",
      "16495              -0.653800              -0.200897              -0.729511   \n",
      "16496              -0.507757              -0.257441              -0.822135   \n",
      "\n",
      "       left_palm_velocity_x  ...  right_pinky_distal_start_x  \\\n",
      "0                -40.609253  ...                    0.000000   \n",
      "1                -51.392498  ...                    0.000000   \n",
      "2                 -3.889975  ...                    0.000000   \n",
      "3                 73.558739  ...                    0.000000   \n",
      "4                144.546783  ...                    0.000000   \n",
      "...                     ...  ...                         ...   \n",
      "16492              6.417247  ...                 -924.740295   \n",
      "16493             97.065239  ...                 -928.647217   \n",
      "16494             -2.486295  ...                 -915.488342   \n",
      "16495           -258.127136  ...                 -911.440857   \n",
      "16496             -8.098556  ...                    0.000000   \n",
      "\n",
      "       right_pinky_distal_start_y  right_pinky_distal_start_z  \\\n",
      "0                        0.000000                    0.000000   \n",
      "1                        0.000000                    0.000000   \n",
      "2                        0.000000                    0.000000   \n",
      "3                        0.000000                    0.000000   \n",
      "4                        0.000000                    0.000000   \n",
      "...                           ...                         ...   \n",
      "16492                  591.827026                  585.659180   \n",
      "16493                  575.241333                  616.321350   \n",
      "16494                  557.099793                  616.971252   \n",
      "16495                  525.080810                  655.752014   \n",
      "16496                    0.000000                    0.000000   \n",
      "\n",
      "       right_pinky_distal_end_x  right_pinky_distal_end_y  \\\n",
      "0                      0.000000                  0.000000   \n",
      "1                      0.000000                  0.000000   \n",
      "2                      0.000000                  0.000000   \n",
      "3                      0.000000                  0.000000   \n",
      "4                      0.000000                  0.000000   \n",
      "...                         ...                       ...   \n",
      "16492               -929.074646                592.329285   \n",
      "16493               -933.800049                573.762390   \n",
      "16494               -920.105347                556.549988   \n",
      "16495               -917.122375                525.943970   \n",
      "16496                  0.000000                  0.000000   \n",
      "\n",
      "       right_pinky_distal_end_z  right_pinky_distal_direction_x  \\\n",
      "0                      0.000000                        0.000000   \n",
      "1                      0.000000                        0.000000   \n",
      "2                      0.000000                        0.000000   \n",
      "3                      0.000000                        0.000000   \n",
      "4                      0.000000                        0.000000   \n",
      "...                         ...                             ...   \n",
      "16492                572.455872                        0.311698   \n",
      "16493                603.933594                        0.381748   \n",
      "16494                603.485291                        0.323660   \n",
      "16495                643.705261                        0.425670   \n",
      "16496                  0.000000                        0.000000   \n",
      "\n",
      "       right_pinky_distal_direction_y  right_pinky_distal_direction_z    CLASS  \n",
      "0                            0.000000                        0.000000  AIRPORT  \n",
      "1                            0.000000                        0.000000  AIRPORT  \n",
      "2                            0.000000                        0.000000  AIRPORT  \n",
      "3                            0.000000                        0.000000  AIRPORT  \n",
      "4                            0.000000                        0.000000  AIRPORT  \n",
      "...                               ...                             ...      ...  \n",
      "16492                       -0.036119                        0.949495      YOU  \n",
      "16493                        0.109568                        0.917749      YOU  \n",
      "16494                        0.038542                        0.945388      YOU  \n",
      "16495                       -0.064669                        0.902565      YOU  \n",
      "16496                        0.000000                        0.000000      YOU  \n",
      "\n",
      "[16497 rows x 429 columns]>\n"
     ]
    }
   ],
   "source": [
    "print(\"Description of Dataset:\", \"\\n\", bsl_data.info)"
   ]
  },
  {
   "cell_type": "code",
   "execution_count": null,
   "metadata": {},
   "outputs": [],
   "source": [
    "print(\"\\n\")"
   ]
  },
  {
   "cell_type": "markdown",
   "metadata": {},
   "source": [
    "Printing the data types of the dataset"
   ]
  },
  {
   "cell_type": "code",
   "execution_count": 10,
   "metadata": {},
   "outputs": [
    {
     "name": "stdout",
     "output_type": "stream",
     "text": [
      "Data Types of Dataset: \n",
      " left_palm_position_x              float64\n",
      "left_palm_position_y              float64\n",
      "left_palm_position_z              float64\n",
      "left_palm_normal_x                float64\n",
      "left_palm_normal_y                float64\n",
      "                                   ...   \n",
      "right_pinky_distal_end_z          float64\n",
      "right_pinky_distal_direction_x    float64\n",
      "right_pinky_distal_direction_y    float64\n",
      "right_pinky_distal_direction_z    float64\n",
      "CLASS                              object\n",
      "Length: 429, dtype: object\n"
     ]
    }
   ],
   "source": [
    "print(\"Data Types of Dataset:\", \"\\n\", bsl_data.dtypes)"
   ]
  },
  {
   "cell_type": "code",
   "execution_count": null,
   "metadata": {},
   "outputs": [],
   "source": [
    "print(\"\\n\")"
   ]
  },
  {
   "cell_type": "markdown",
   "metadata": {},
   "source": [
    "Printing the statistics of the dataset"
   ]
  },
  {
   "cell_type": "code",
   "execution_count": 11,
   "metadata": {},
   "outputs": [
    {
     "name": "stdout",
     "output_type": "stream",
     "text": [
      "Statistics of Dataset: \n",
      " <bound method NDFrame.describe of        left_palm_position_x  left_palm_position_y  left_palm_position_z  \\\n",
      "0               -707.805542            707.611755            589.008545   \n",
      "1               -710.755981            719.085449            592.499207   \n",
      "2               -710.590027            713.212830            600.196594   \n",
      "3               -705.993225            700.514160            591.618957   \n",
      "4               -685.203064            700.793823            594.919678   \n",
      "...                     ...                   ...                   ...   \n",
      "16492             67.586792            214.137756            141.224442   \n",
      "16493             80.525444            250.807724            169.304031   \n",
      "16494            110.724731            308.592651            221.814713   \n",
      "16495             80.774185            236.855576            190.842941   \n",
      "16496             82.560265            156.845688            112.025520   \n",
      "\n",
      "       left_palm_normal_x  left_palm_normal_y  left_palm_normal_z  \\\n",
      "0                0.195482           -0.019763           -0.980508   \n",
      "1                0.223380           -0.194884           -0.955051   \n",
      "2                0.198838           -0.222316           -0.954484   \n",
      "3                0.041660           -0.225691           -0.973308   \n",
      "4                0.078385           -0.408735           -0.909281   \n",
      "...                   ...                 ...                 ...   \n",
      "16492           -0.288843           -0.749880            0.595189   \n",
      "16493           -0.395057           -0.690707            0.605684   \n",
      "16494           -0.515701           -0.643517            0.565631   \n",
      "16495           -0.395454           -0.731243            0.555787   \n",
      "16496           -0.015672           -0.951388            0.307594   \n",
      "\n",
      "       left_hand_direction_x  left_hand_direction_y  left_hand_direction_z  \\\n",
      "0                   0.540868               0.836173               0.090978   \n",
      "1                   0.648259               0.761411              -0.003747   \n",
      "2                   0.670514               0.741165              -0.032949   \n",
      "3                   0.733991               0.667847              -0.123444   \n",
      "4                   0.873516               0.467718              -0.134944   \n",
      "...                      ...                    ...                    ...   \n",
      "16492              -0.623886              -0.324123              -0.711133   \n",
      "16493              -0.679944              -0.223503              -0.698371   \n",
      "16494              -0.632240              -0.159710              -0.758132   \n",
      "16495              -0.653800              -0.200897              -0.729511   \n",
      "16496              -0.507757              -0.257441              -0.822135   \n",
      "\n",
      "       left_palm_velocity_x  ...  right_pinky_distal_start_x  \\\n",
      "0                -40.609253  ...                    0.000000   \n",
      "1                -51.392498  ...                    0.000000   \n",
      "2                 -3.889975  ...                    0.000000   \n",
      "3                 73.558739  ...                    0.000000   \n",
      "4                144.546783  ...                    0.000000   \n",
      "...                     ...  ...                         ...   \n",
      "16492              6.417247  ...                 -924.740295   \n",
      "16493             97.065239  ...                 -928.647217   \n",
      "16494             -2.486295  ...                 -915.488342   \n",
      "16495           -258.127136  ...                 -911.440857   \n",
      "16496             -8.098556  ...                    0.000000   \n",
      "\n",
      "       right_pinky_distal_start_y  right_pinky_distal_start_z  \\\n",
      "0                        0.000000                    0.000000   \n",
      "1                        0.000000                    0.000000   \n",
      "2                        0.000000                    0.000000   \n",
      "3                        0.000000                    0.000000   \n",
      "4                        0.000000                    0.000000   \n",
      "...                           ...                         ...   \n",
      "16492                  591.827026                  585.659180   \n",
      "16493                  575.241333                  616.321350   \n",
      "16494                  557.099793                  616.971252   \n",
      "16495                  525.080810                  655.752014   \n",
      "16496                    0.000000                    0.000000   \n",
      "\n",
      "       right_pinky_distal_end_x  right_pinky_distal_end_y  \\\n",
      "0                      0.000000                  0.000000   \n",
      "1                      0.000000                  0.000000   \n",
      "2                      0.000000                  0.000000   \n",
      "3                      0.000000                  0.000000   \n",
      "4                      0.000000                  0.000000   \n",
      "...                         ...                       ...   \n",
      "16492               -929.074646                592.329285   \n",
      "16493               -933.800049                573.762390   \n",
      "16494               -920.105347                556.549988   \n",
      "16495               -917.122375                525.943970   \n",
      "16496                  0.000000                  0.000000   \n",
      "\n",
      "       right_pinky_distal_end_z  right_pinky_distal_direction_x  \\\n",
      "0                      0.000000                        0.000000   \n",
      "1                      0.000000                        0.000000   \n",
      "2                      0.000000                        0.000000   \n",
      "3                      0.000000                        0.000000   \n",
      "4                      0.000000                        0.000000   \n",
      "...                         ...                             ...   \n",
      "16492                572.455872                        0.311698   \n",
      "16493                603.933594                        0.381748   \n",
      "16494                603.485291                        0.323660   \n",
      "16495                643.705261                        0.425670   \n",
      "16496                  0.000000                        0.000000   \n",
      "\n",
      "       right_pinky_distal_direction_y  right_pinky_distal_direction_z    CLASS  \n",
      "0                            0.000000                        0.000000  AIRPORT  \n",
      "1                            0.000000                        0.000000  AIRPORT  \n",
      "2                            0.000000                        0.000000  AIRPORT  \n",
      "3                            0.000000                        0.000000  AIRPORT  \n",
      "4                            0.000000                        0.000000  AIRPORT  \n",
      "...                               ...                             ...      ...  \n",
      "16492                       -0.036119                        0.949495      YOU  \n",
      "16493                        0.109568                        0.917749      YOU  \n",
      "16494                        0.038542                        0.945388      YOU  \n",
      "16495                       -0.064669                        0.902565      YOU  \n",
      "16496                        0.000000                        0.000000      YOU  \n",
      "\n",
      "[16497 rows x 429 columns]>\n"
     ]
    }
   ],
   "source": [
    "print(\"Statistics of Dataset:\", \"\\n\", bsl_data.describe)"
   ]
  },
  {
   "cell_type": "code",
   "execution_count": null,
   "metadata": {},
   "outputs": [],
   "source": [
    "print(\"\\n\")"
   ]
  },
  {
   "cell_type": "markdown",
   "metadata": {},
   "source": [
    "Printing a summary of unique values in the dataset"
   ]
  },
  {
   "cell_type": "code",
   "execution_count": 12,
   "metadata": {},
   "outputs": [
    {
     "name": "stdout",
     "output_type": "stream",
     "text": [
      "Unique Values of Dataset: \n",
      " <bound method DataFrame.nunique of        left_palm_position_x  left_palm_position_y  left_palm_position_z  \\\n",
      "0               -707.805542            707.611755            589.008545   \n",
      "1               -710.755981            719.085449            592.499207   \n",
      "2               -710.590027            713.212830            600.196594   \n",
      "3               -705.993225            700.514160            591.618957   \n",
      "4               -685.203064            700.793823            594.919678   \n",
      "...                     ...                   ...                   ...   \n",
      "16492             67.586792            214.137756            141.224442   \n",
      "16493             80.525444            250.807724            169.304031   \n",
      "16494            110.724731            308.592651            221.814713   \n",
      "16495             80.774185            236.855576            190.842941   \n",
      "16496             82.560265            156.845688            112.025520   \n",
      "\n",
      "       left_palm_normal_x  left_palm_normal_y  left_palm_normal_z  \\\n",
      "0                0.195482           -0.019763           -0.980508   \n",
      "1                0.223380           -0.194884           -0.955051   \n",
      "2                0.198838           -0.222316           -0.954484   \n",
      "3                0.041660           -0.225691           -0.973308   \n",
      "4                0.078385           -0.408735           -0.909281   \n",
      "...                   ...                 ...                 ...   \n",
      "16492           -0.288843           -0.749880            0.595189   \n",
      "16493           -0.395057           -0.690707            0.605684   \n",
      "16494           -0.515701           -0.643517            0.565631   \n",
      "16495           -0.395454           -0.731243            0.555787   \n",
      "16496           -0.015672           -0.951388            0.307594   \n",
      "\n",
      "       left_hand_direction_x  left_hand_direction_y  left_hand_direction_z  \\\n",
      "0                   0.540868               0.836173               0.090978   \n",
      "1                   0.648259               0.761411              -0.003747   \n",
      "2                   0.670514               0.741165              -0.032949   \n",
      "3                   0.733991               0.667847              -0.123444   \n",
      "4                   0.873516               0.467718              -0.134944   \n",
      "...                      ...                    ...                    ...   \n",
      "16492              -0.623886              -0.324123              -0.711133   \n",
      "16493              -0.679944              -0.223503              -0.698371   \n",
      "16494              -0.632240              -0.159710              -0.758132   \n",
      "16495              -0.653800              -0.200897              -0.729511   \n",
      "16496              -0.507757              -0.257441              -0.822135   \n",
      "\n",
      "       left_palm_velocity_x  ...  right_pinky_distal_start_x  \\\n",
      "0                -40.609253  ...                    0.000000   \n",
      "1                -51.392498  ...                    0.000000   \n",
      "2                 -3.889975  ...                    0.000000   \n",
      "3                 73.558739  ...                    0.000000   \n",
      "4                144.546783  ...                    0.000000   \n",
      "...                     ...  ...                         ...   \n",
      "16492              6.417247  ...                 -924.740295   \n",
      "16493             97.065239  ...                 -928.647217   \n",
      "16494             -2.486295  ...                 -915.488342   \n",
      "16495           -258.127136  ...                 -911.440857   \n",
      "16496             -8.098556  ...                    0.000000   \n",
      "\n",
      "       right_pinky_distal_start_y  right_pinky_distal_start_z  \\\n",
      "0                        0.000000                    0.000000   \n",
      "1                        0.000000                    0.000000   \n",
      "2                        0.000000                    0.000000   \n",
      "3                        0.000000                    0.000000   \n",
      "4                        0.000000                    0.000000   \n",
      "...                           ...                         ...   \n",
      "16492                  591.827026                  585.659180   \n",
      "16493                  575.241333                  616.321350   \n",
      "16494                  557.099793                  616.971252   \n",
      "16495                  525.080810                  655.752014   \n",
      "16496                    0.000000                    0.000000   \n",
      "\n",
      "       right_pinky_distal_end_x  right_pinky_distal_end_y  \\\n",
      "0                      0.000000                  0.000000   \n",
      "1                      0.000000                  0.000000   \n",
      "2                      0.000000                  0.000000   \n",
      "3                      0.000000                  0.000000   \n",
      "4                      0.000000                  0.000000   \n",
      "...                         ...                       ...   \n",
      "16492               -929.074646                592.329285   \n",
      "16493               -933.800049                573.762390   \n",
      "16494               -920.105347                556.549988   \n",
      "16495               -917.122375                525.943970   \n",
      "16496                  0.000000                  0.000000   \n",
      "\n",
      "       right_pinky_distal_end_z  right_pinky_distal_direction_x  \\\n",
      "0                      0.000000                        0.000000   \n",
      "1                      0.000000                        0.000000   \n",
      "2                      0.000000                        0.000000   \n",
      "3                      0.000000                        0.000000   \n",
      "4                      0.000000                        0.000000   \n",
      "...                         ...                             ...   \n",
      "16492                572.455872                        0.311698   \n",
      "16493                603.933594                        0.381748   \n",
      "16494                603.485291                        0.323660   \n",
      "16495                643.705261                        0.425670   \n",
      "16496                  0.000000                        0.000000   \n",
      "\n",
      "       right_pinky_distal_direction_y  right_pinky_distal_direction_z    CLASS  \n",
      "0                            0.000000                        0.000000  AIRPORT  \n",
      "1                            0.000000                        0.000000  AIRPORT  \n",
      "2                            0.000000                        0.000000  AIRPORT  \n",
      "3                            0.000000                        0.000000  AIRPORT  \n",
      "4                            0.000000                        0.000000  AIRPORT  \n",
      "...                               ...                             ...      ...  \n",
      "16492                       -0.036119                        0.949495      YOU  \n",
      "16493                        0.109568                        0.917749      YOU  \n",
      "16494                        0.038542                        0.945388      YOU  \n",
      "16495                       -0.064669                        0.902565      YOU  \n",
      "16496                        0.000000                        0.000000      YOU  \n",
      "\n",
      "[16497 rows x 429 columns]>\n"
     ]
    }
   ],
   "source": [
    "print(\"Unique Values of Dataset:\", \"\\n\", bsl_data.nunique)"
   ]
  },
  {
   "cell_type": "code",
   "execution_count": null,
   "metadata": {},
   "outputs": [],
   "source": [
    "print(\"\\n\")"
   ]
  },
  {
   "cell_type": "markdown",
   "metadata": {},
   "source": [
    "Number of unique values in CLASS column"
   ]
  },
  {
   "cell_type": "code",
   "execution_count": 13,
   "metadata": {},
   "outputs": [
    {
     "name": "stdout",
     "output_type": "stream",
     "text": [
      "Number of unique values in CLASS column\n",
      "18\n"
     ]
    }
   ],
   "source": [
    "print(\"Number of unique values in CLASS column\")\n",
    "print(len(bsl_data.CLASS.unique()))"
   ]
  },
  {
   "cell_type": "code",
   "execution_count": null,
   "metadata": {},
   "outputs": [],
   "source": [
    "print(\"\\n\")"
   ]
  },
  {
   "cell_type": "markdown",
   "metadata": {},
   "source": [
    "Count of each target in CLASS column"
   ]
  },
  {
   "cell_type": "code",
   "execution_count": 14,
   "metadata": {},
   "outputs": [
    {
     "name": "stdout",
     "output_type": "stream",
     "text": [
      "Count of each target in CLASS column\n",
      "GOOD          1559\n",
      "BUS           1453\n",
      "BAD           1096\n",
      "YOU           1073\n",
      "NAME          1064\n",
      "HELLO         1057\n",
      "TAXI          1049\n",
      "THANKS        1033\n",
      "I              980\n",
      "DRINK          908\n",
      "EXCUSE_ME      898\n",
      "FOOD           713\n",
      "AIRPORT        709\n",
      "SORRY          639\n",
      "PLANE          598\n",
      "CAR            567\n",
      "RESTAURANT     561\n",
      "TIME           540\n",
      "Name: CLASS, dtype: int64\n"
     ]
    }
   ],
   "source": [
    "print(\"Count of each target in CLASS column\")\n",
    "print(bsl_data.CLASS.value_counts())"
   ]
  },
  {
   "cell_type": "markdown",
   "metadata": {},
   "source": [
    "Count of each target in CLASS column - Countplot"
   ]
  },
  {
   "cell_type": "code",
   "execution_count": 15,
   "metadata": {},
   "outputs": [
    {
     "data": {
      "image/png": "[encoded data removed]",
      "text/plain": [
       "<Figure size 432x432 with 1 Axes>"
      ]
     },
     "metadata": {
      "needs_background": "light"
     },
     "output_type": "display_data"
    }
   ],
   "source": [
    "class_count_plt = plt.subplots(figsize=(6,6))\n",
    "class_count_plt = sns.countplot(y='CLASS', data=bsl_data)\n",
    "plt.show()"
   ]
  },
  {
   "cell_type": "code",
   "execution_count": null,
   "metadata": {},
   "outputs": [],
   "source": [
    "print(\"\\n\")"
   ]
  },
  {
   "cell_type": "markdown",
   "metadata": {},
   "source": [
    "Calculate the number of duplicate data in the dataset"
   ]
  },
  {
   "cell_type": "code",
   "execution_count": 16,
   "metadata": {},
   "outputs": [
    {
     "name": "stdout",
     "output_type": "stream",
     "text": [
      "Duplicate data in Dataset:\n",
      " False\n"
     ]
    }
   ],
   "source": [
    "dup_data = bsl_data.duplicated()\n",
    "# Printing the number of duplicate data in the dataset\n",
    "print(\"Duplicate data in Dataset:\" \"\\n\", dup_data.any())"
   ]
  },
  {
   "cell_type": "code",
   "execution_count": null,
   "metadata": {},
   "outputs": [],
   "source": [
    "print(\"\\n\")"
   ]
  },
  {
   "cell_type": "markdown",
   "metadata": {},
   "source": [
    "%% 3. Cleaning and Pre-Processing Data"
   ]
  },
  {
   "cell_type": "code",
   "execution_count": null,
   "metadata": {},
   "outputs": [],
   "source": [
    "print(\"Cleaning and Pre-Processing Data\")"
   ]
  },
  {
   "cell_type": "code",
   "execution_count": null,
   "metadata": {},
   "outputs": [],
   "source": [
    "print(\"\\n\")"
   ]
  },
  {
   "cell_type": "markdown",
   "metadata": {},
   "source": [
    "Clean the dataset by checking for null values and checking the number of columns<br>\n",
    "Check column names of the dataset"
   ]
  },
  {
   "cell_type": "code",
   "execution_count": 17,
   "metadata": {},
   "outputs": [
    {
     "name": "stdout",
     "output_type": "stream",
     "text": [
      "Check columns names of the dataset\n",
      "Index(['left_palm_position_x', 'left_palm_position_y', 'left_palm_position_z',\n",
      "       'left_palm_normal_x', 'left_palm_normal_y', 'left_palm_normal_z',\n",
      "       'left_hand_direction_x', 'left_hand_direction_y',\n",
      "       'left_hand_direction_z', 'left_palm_velocity_x',\n",
      "       ...\n",
      "       'right_pinky_distal_start_x', 'right_pinky_distal_start_y',\n",
      "       'right_pinky_distal_start_z', 'right_pinky_distal_end_x',\n",
      "       'right_pinky_distal_end_y', 'right_pinky_distal_end_z',\n",
      "       'right_pinky_distal_direction_x', 'right_pinky_distal_direction_y',\n",
      "       'right_pinky_distal_direction_z', 'CLASS'],\n",
      "      dtype='object', length=429)\n"
     ]
    }
   ],
   "source": [
    "print(\"Check columns names of the dataset\")\n",
    "bsl_data_cols = list(bsl_data.columns)\n",
    "print(bsl_data.columns)"
   ]
  },
  {
   "cell_type": "code",
   "execution_count": null,
   "metadata": {},
   "outputs": [],
   "source": [
    "print(\"\\n\")"
   ]
  },
  {
   "cell_type": "markdown",
   "metadata": {},
   "source": [
    "Check for missing values in dataset"
   ]
  },
  {
   "cell_type": "code",
   "execution_count": 18,
   "metadata": {},
   "outputs": [
    {
     "name": "stdout",
     "output_type": "stream",
     "text": [
      "Check for missing values in dataset\n",
      "left_palm_position_x              0.0\n",
      "left_palm_position_y              0.0\n",
      "left_palm_position_z              0.0\n",
      "left_palm_normal_x                0.0\n",
      "left_palm_normal_y                0.0\n",
      "                                 ... \n",
      "right_pinky_distal_end_z          0.0\n",
      "right_pinky_distal_direction_x    0.0\n",
      "right_pinky_distal_direction_y    0.0\n",
      "right_pinky_distal_direction_z    0.0\n",
      "CLASS                             0.0\n",
      "Length: 429, dtype: float64\n"
     ]
    }
   ],
   "source": [
    "print(\"Check for missing values in dataset\")\n",
    "print(bsl_data.isna().sum()/len(bsl_data)*100)"
   ]
  },
  {
   "cell_type": "code",
   "execution_count": null,
   "metadata": {},
   "outputs": [],
   "source": [
    "print(\"\\n\")"
   ]
  },
  {
   "cell_type": "markdown",
   "metadata": {},
   "source": [
    "Check for null values in dataset"
   ]
  },
  {
   "cell_type": "code",
   "execution_count": 19,
   "metadata": {},
   "outputs": [
    {
     "name": "stdout",
     "output_type": "stream",
     "text": [
      "Check for null values in dataset\n",
      "left_palm_position_x              0.0\n",
      "left_palm_position_y              0.0\n",
      "left_palm_position_z              0.0\n",
      "left_palm_normal_x                0.0\n",
      "left_palm_normal_y                0.0\n",
      "                                 ... \n",
      "right_pinky_distal_end_z          0.0\n",
      "right_pinky_distal_direction_x    0.0\n",
      "right_pinky_distal_direction_y    0.0\n",
      "right_pinky_distal_direction_z    0.0\n",
      "CLASS                             0.0\n",
      "Length: 429, dtype: float64\n"
     ]
    }
   ],
   "source": [
    "print(\"Check for null values in dataset\")\n",
    "print(bsl_data.isnull().sum()/len(bsl_data)*100)"
   ]
  },
  {
   "cell_type": "code",
   "execution_count": null,
   "metadata": {},
   "outputs": [],
   "source": [
    "print(\"\\n\")"
   ]
  },
  {
   "cell_type": "markdown",
   "metadata": {},
   "source": [
    "Create a copy of the cleaned dataset"
   ]
  },
  {
   "cell_type": "code",
   "execution_count": 20,
   "metadata": {},
   "outputs": [
    {
     "name": "stdout",
     "output_type": "stream",
     "text": [
      "Create a copy of the cleaned dataset\n"
     ]
    }
   ],
   "source": [
    "print(\"Create a copy of the cleaned dataset\")\n",
    "cleaned_bsl_data = bsl_data.copy()"
   ]
  },
  {
   "cell_type": "code",
   "execution_count": null,
   "metadata": {},
   "outputs": [],
   "source": [
    "print(\"\\n\")"
   ]
  },
  {
   "cell_type": "markdown",
   "metadata": {},
   "source": [
    "Print the distribution of the target"
   ]
  },
  {
   "cell_type": "code",
   "execution_count": 21,
   "metadata": {},
   "outputs": [
    {
     "name": "stdout",
     "output_type": "stream",
     "text": [
      "Print the distribution of the target\n",
      "['AIRPORT' 'BAD' 'BUS' 'CAR' 'DRINK' 'EXCUSE_ME' 'FOOD' 'GOOD' 'HELLO' 'I'\n",
      " 'NAME' 'PLANE' 'RESTAURANT' 'SORRY' 'TAXI' 'THANKS' 'TIME' 'YOU']\n"
     ]
    }
   ],
   "source": [
    "print(\"Print the distribution of the target\")\n",
    "print(np.array(np.unique(bsl_data.CLASS, return_counts=False)))"
   ]
  },
  {
   "cell_type": "code",
   "execution_count": null,
   "metadata": {},
   "outputs": [],
   "source": [
    "print(\"\\n\")"
   ]
  },
  {
   "cell_type": "markdown",
   "metadata": {},
   "source": [
    "Call the MinMaxScaler class"
   ]
  },
  {
   "cell_type": "code",
   "execution_count": 22,
   "metadata": {},
   "outputs": [],
   "source": [
    "mms = preprocessing.MinMaxScaler()"
   ]
  },
  {
   "cell_type": "markdown",
   "metadata": {},
   "source": [
    "Find the feature names by its index position using iloc"
   ]
  },
  {
   "cell_type": "code",
   "execution_count": 23,
   "metadata": {},
   "outputs": [],
   "source": [
    "bsl_data_features = bsl_data.iloc[:, 0:428]\n",
    "bsl_data_targets = bsl_data.iloc[:, 428:429]"
   ]
  },
  {
   "cell_type": "markdown",
   "metadata": {},
   "source": [
    "Fit the MinMax estimator on the features of the dataset using the MinMaxScaler"
   ]
  },
  {
   "cell_type": "code",
   "execution_count": 24,
   "metadata": {},
   "outputs": [],
   "source": [
    "processed_features = mms.fit_transform(bsl_data_features)"
   ]
  },
  {
   "cell_type": "markdown",
   "metadata": {},
   "source": [
    "Check the contents of the MinMax scaled features in the array"
   ]
  },
  {
   "cell_type": "code",
   "execution_count": 25,
   "metadata": {},
   "outputs": [
    {
     "name": "stdout",
     "output_type": "stream",
     "text": [
      "Check the contents of scaled features in the array\n",
      "[[0.17761808 0.61233667 0.36658514 ... 0.49993908 0.50161271 0.50079643]\n",
      " [0.17619351 0.62226551 0.36847647 ... 0.49993908 0.50161271 0.50079643]\n",
      " [0.17627364 0.6171836  0.3726471  ... 0.49993908 0.50161271 0.50079643]\n",
      " ...\n",
      " [0.57283195 0.26704276 0.16763053 ... 0.66179053 0.52094657 0.9742864 ]\n",
      " [0.55837082 0.20496459 0.15084926 ... 0.71280239 0.46917269 0.95283858]\n",
      " [0.5592332  0.13572749 0.10814406 ... 0.49993908 0.50161271 0.50079643]]\n"
     ]
    }
   ],
   "source": [
    "print(\"Check the contents of scaled features in the array\")\n",
    "print(processed_features)"
   ]
  },
  {
   "cell_type": "markdown",
   "metadata": {},
   "source": [
    "Merge the encoded labels with the scaled features into a DataFrame"
   ]
  },
  {
   "cell_type": "code",
   "execution_count": 26,
   "metadata": {},
   "outputs": [],
   "source": [
    "scaled_bsl_data = pd.DataFrame(processed_features, bsl_data_targets)"
   ]
  },
  {
   "cell_type": "markdown",
   "metadata": {},
   "source": [
    "Create a copy of scaled_bsl_data before performing PCA"
   ]
  },
  {
   "cell_type": "code",
   "execution_count": 27,
   "metadata": {},
   "outputs": [],
   "source": [
    "scaled_bsl_data_RAW_COPY = scaled_bsl_data.copy()"
   ]
  },
  {
   "cell_type": "code",
   "execution_count": null,
   "metadata": {},
   "outputs": [],
   "source": [
    "print(\"\\n\")"
   ]
  },
  {
   "cell_type": "markdown",
   "metadata": {},
   "source": [
    "Check the first 10 rows of the scaled DataFrame"
   ]
  },
  {
   "cell_type": "code",
   "execution_count": 28,
   "metadata": {},
   "outputs": [
    {
     "name": "stdout",
     "output_type": "stream",
     "text": [
      "The first 10 rows of the transformed DataFrame\n",
      "                 0         1         2         3         4         5    \\\n",
      "(AIRPORT,)  0.177618  0.612337  0.366585  0.596878  0.490133  0.008956   \n",
      "(AIRPORT,)  0.176194  0.622266  0.368476  0.610860  0.402566  0.021698   \n",
      "(AIRPORT,)  0.176274  0.617184  0.372647  0.598560  0.388849  0.021982   \n",
      "(AIRPORT,)  0.178493  0.606195  0.368000  0.519790  0.387162  0.012560   \n",
      "(AIRPORT,)  0.188531  0.606437  0.369788  0.538195  0.295633  0.044606   \n",
      "(AIRPORT,)  0.255815  0.846455  0.227287  0.940753  0.653721  0.678924   \n",
      "(AIRPORT,)  0.322915  0.852382  0.182417  0.993716  0.420685  0.497794   \n",
      "(AIRPORT,)  0.390131  0.665024  0.145557  0.993040  0.417392  0.511394   \n",
      "(AIRPORT,)  0.772018  0.405405  0.100300  0.071358  0.320560  0.689216   \n",
      "(AIRPORT,)  0.446144  0.370163  0.113163  0.719941  0.098026  0.300011   \n",
      "\n",
      "                 6         7         8         9    ...       418       419  \\\n",
      "(AIRPORT,)  0.768970  0.919268  0.553352  0.591679  ...  0.500451  0.561976   \n",
      "(AIRPORT,)  0.823023  0.881719  0.505299  0.588737  ...  0.500451  0.561976   \n",
      "(AIRPORT,)  0.834225  0.871551  0.490485  0.601699  ...  0.500451  0.561976   \n",
      "(AIRPORT,)  0.866175  0.834728  0.444578  0.622832  ...  0.500451  0.561976   \n",
      "(AIRPORT,)  0.936403  0.734216  0.438744  0.642203  ...  0.500451  0.561976   \n",
      "(AIRPORT,)  0.325794  0.971471  0.521982  0.712051  ...  0.500451  0.561976   \n",
      "(AIRPORT,)  0.576604  0.995145  0.513501  0.751271  ...  0.500451  0.561976   \n",
      "(AIRPORT,)  0.580618  0.992571  0.462825  0.826354  ...  0.500451  0.561976   \n",
      "(AIRPORT,)  0.533729  0.096902  0.205958  0.685119  ...  0.500451  0.561976   \n",
      "(AIRPORT,)  0.705614  0.789029  0.150286  0.610059  ...  0.500451  0.561976   \n",
      "\n",
      "            420       421       422  423       424       425       426  \\\n",
      "(AIRPORT,)  0.0  0.287793  0.562865  0.0  0.295927  0.499939  0.501613   \n",
      "(AIRPORT,)  0.0  0.287793  0.562865  0.0  0.295927  0.499939  0.501613   \n",
      "(AIRPORT,)  0.0  0.287793  0.562865  0.0  0.295927  0.499939  0.501613   \n",
      "(AIRPORT,)  0.0  0.287793  0.562865  0.0  0.295927  0.499939  0.501613   \n",
      "(AIRPORT,)  0.0  0.287793  0.562865  0.0  0.295927  0.499939  0.501613   \n",
      "(AIRPORT,)  0.0  0.287793  0.562865  0.0  0.295927  0.499939  0.501613   \n",
      "(AIRPORT,)  0.0  0.287793  0.562865  0.0  0.295927  0.499939  0.501613   \n",
      "(AIRPORT,)  0.0  0.287793  0.562865  0.0  0.295927  0.499939  0.501613   \n",
      "(AIRPORT,)  0.0  0.287793  0.562865  0.0  0.295927  0.499939  0.501613   \n",
      "(AIRPORT,)  0.0  0.287793  0.562865  0.0  0.295927  0.499939  0.501613   \n",
      "\n",
      "                 427  \n",
      "(AIRPORT,)  0.500796  \n",
      "(AIRPORT,)  0.500796  \n",
      "(AIRPORT,)  0.500796  \n",
      "(AIRPORT,)  0.500796  \n",
      "(AIRPORT,)  0.500796  \n",
      "(AIRPORT,)  0.500796  \n",
      "(AIRPORT,)  0.500796  \n",
      "(AIRPORT,)  0.500796  \n",
      "(AIRPORT,)  0.500796  \n",
      "(AIRPORT,)  0.500796  \n",
      "\n",
      "[10 rows x 428 columns]\n"
     ]
    }
   ],
   "source": [
    "print(\"The first 10 rows of the transformed DataFrame\")\n",
    "print(scaled_bsl_data.head(10))"
   ]
  },
  {
   "cell_type": "code",
   "execution_count": null,
   "metadata": {},
   "outputs": [],
   "source": [
    "print(\"\\n\")"
   ]
  },
  {
   "cell_type": "markdown",
   "metadata": {},
   "source": [
    "Check the last 10 rows of the transformed DataFrame"
   ]
  },
  {
   "cell_type": "code",
   "execution_count": 29,
   "metadata": {},
   "outputs": [
    {
     "name": "stdout",
     "output_type": "stream",
     "text": [
      "The last 10 rows of the transformed DataFrame\n",
      "             0         1         2         3         4         5         6    \\\n",
      "(YOU,)  0.551716  0.190535  0.098346  0.278787  0.227785  0.857380  0.195921   \n",
      "(YOU,)  0.561981  0.232508  0.111899  0.284087  0.215693  0.851114  0.173888   \n",
      "(YOU,)  0.572201  0.269981  0.128290  0.278263  0.193794  0.828341  0.172285   \n",
      "(YOU,)  0.561715  0.238938  0.124486  0.289582  0.198991  0.840320  0.169944   \n",
      "(YOU,)  0.550195  0.177210  0.115186  0.324234  0.163495  0.826228  0.199672   \n",
      "(YOU,)  0.552004  0.185306  0.123965  0.354156  0.125049  0.797606  0.182708   \n",
      "(YOU,)  0.558251  0.217038  0.139179  0.300927  0.154637  0.802859  0.154492   \n",
      "(YOU,)  0.572832  0.267043  0.167631  0.240465  0.178234  0.782812  0.178503   \n",
      "(YOU,)  0.558371  0.204965  0.150849  0.300728  0.134368  0.777885  0.167651   \n",
      "(YOU,)  0.559233  0.135727  0.108144  0.491058  0.024287  0.653662  0.241159   \n",
      "\n",
      "             7         8         9    ...       418       419       420  \\\n",
      "(YOU,)  0.289957  0.159761  0.611399  ...  0.950305  0.054047  0.373451   \n",
      "(YOU,)  0.320632  0.162382  0.627398  ...  0.946021  0.047234  0.379612   \n",
      "(YOU,)  0.351914  0.149078  0.610031  ...  0.775047  0.031368  0.357091   \n",
      "(YOU,)  0.335469  0.158658  0.557483  ...  0.905262  0.033161  0.383589   \n",
      "(YOU,)  0.306887  0.146740  0.608861  ...  0.976498  0.014419  0.392930   \n",
      "(YOU,)  0.336523  0.146450  0.604512  ...  0.976468  0.006445  0.394221   \n",
      "(YOU,)  0.387057  0.152924  0.629247  ...  0.952569  0.004098  0.383173   \n",
      "(YOU,)  0.419097  0.122608  0.602082  ...  0.961295  0.012003  0.371088   \n",
      "(YOU,)  0.398411  0.137127  0.532325  ...  0.948982  0.014434  0.349760   \n",
      "(YOU,)  0.370012  0.090140  0.600551  ...  0.500451  0.561976  0.000000   \n",
      "\n",
      "             421       422       423       424       425       426       427  \n",
      "(YOU,)  0.738443  0.052575  0.369768  0.736536  0.728144  0.534330  0.945247  \n",
      "(YOU,)  0.765821  0.046074  0.376047  0.764825  0.723594  0.526412  0.948069  \n",
      "(YOU,)  0.814915  0.026767  0.354950  0.820646  0.947639  0.453367  0.718662  \n",
      "(YOU,)  0.850278  0.030775  0.381723  0.850532  0.789666  0.427805  0.902306  \n",
      "(YOU,)  0.892655  0.014508  0.389336  0.891411  0.645088  0.521165  0.979678  \n",
      "(YOU,)  0.923873  0.006231  0.391284  0.922069  0.655809  0.483494  0.976343  \n",
      "(YOU,)  0.957175  0.003399  0.379019  0.956498  0.690839  0.556575  0.960443  \n",
      "(YOU,)  0.957881  0.011604  0.367649  0.956008  0.661791  0.520947  0.974286  \n",
      "(YOU,)  1.000000  0.013391  0.347431  1.000000  0.712802  0.469173  0.952839  \n",
      "(YOU,)  0.287793  0.562865  0.000000  0.295927  0.499939  0.501613  0.500796  \n",
      "\n",
      "[10 rows x 428 columns]\n"
     ]
    }
   ],
   "source": [
    "print(\"The last 10 rows of the transformed DataFrame\")\n",
    "print(scaled_bsl_data.tail(10))"
   ]
  },
  {
   "cell_type": "code",
   "execution_count": null,
   "metadata": {},
   "outputs": [],
   "source": [
    "print(\"\\n\")"
   ]
  },
  {
   "cell_type": "markdown",
   "metadata": {},
   "source": [
    "%% 4. Feature Engineering"
   ]
  },
  {
   "cell_type": "code",
   "execution_count": null,
   "metadata": {},
   "outputs": [],
   "source": [
    "print(\"Feature Engineering\")"
   ]
  },
  {
   "cell_type": "code",
   "execution_count": null,
   "metadata": {},
   "outputs": [],
   "source": [
    "print(\"\\n\")"
   ]
  },
  {
   "cell_type": "markdown",
   "metadata": {},
   "source": [
    "Split the PCA transformed features along with the processed targets into training and testing data<br>\n",
    "80% training data and 20% testing data<br>\n",
    "Having more training data will help mitigate the overfitting issue that certain ML models can induce<br>\n",
    "The targets are stratified so that the samples for each class stay proportionate to the dataset, even after train and test splitting"
   ]
  },
  {
   "cell_type": "code",
   "execution_count": 30,
   "metadata": {},
   "outputs": [],
   "source": [
    "features_train, features_test, target_train, target_test = train_test_split(\n",
    "    processed_features, np.ravel(bsl_data_targets), test_size=0.2, random_state=100, stratify=np.ravel(bsl_data_targets))"
   ]
  },
  {
   "cell_type": "markdown",
   "metadata": {},
   "source": [
    "Check the count of target variables in the target training and testing sets"
   ]
  },
  {
   "cell_type": "code",
   "execution_count": 31,
   "metadata": {},
   "outputs": [
    {
     "name": "stdout",
     "output_type": "stream",
     "text": [
      "Count of target variables in the target training subset\n",
      "\n",
      "Counter({'GOOD': 1247, 'BUS': 1162, 'BAD': 877, 'YOU': 858, 'NAME': 851, 'HELLO': 846, 'TAXI': 839, 'THANKS': 826, 'I': 784, 'DRINK': 726, 'EXCUSE_ME': 718, 'FOOD': 571, 'AIRPORT': 567, 'SORRY': 511, 'PLANE': 479, 'CAR': 454, 'RESTAURANT': 449, 'TIME': 432})\n",
      "\n",
      "\n",
      "Count of target variables in the target testing subset\n",
      "\n",
      "Counter({'GOOD': 312, 'BUS': 291, 'BAD': 219, 'YOU': 215, 'NAME': 213, 'HELLO': 211, 'TAXI': 210, 'THANKS': 207, 'I': 196, 'DRINK': 182, 'EXCUSE_ME': 180, 'AIRPORT': 142, 'FOOD': 142, 'SORRY': 128, 'PLANE': 119, 'CAR': 113, 'RESTAURANT': 112, 'TIME': 108})\n"
     ]
    }
   ],
   "source": [
    "print(\"Count of target variables in the target training subset\" + \"\\n\")\n",
    "print(Counter(target_train))\n",
    "print(\"\\n\")\n",
    "print(\"Count of target variables in the target testing subset\" + \"\\n\")\n",
    "print(Counter(target_test))"
   ]
  },
  {
   "cell_type": "code",
   "execution_count": null,
   "metadata": {},
   "outputs": [],
   "source": [
    "print(\"\\n\")"
   ]
  },
  {
   "cell_type": "markdown",
   "metadata": {},
   "source": [
    "%% 4. PCA Data Analysis"
   ]
  },
  {
   "cell_type": "markdown",
   "metadata": {},
   "source": [
    "Initialise the PCA<br>\n",
    "The number of components could change in order to achieve the best accuracy possible<br>\n",
    "To ensure enough variance is gathered from the features of the dataset, the number of components is determined by how much variance is retained<br>\n",
    "95% Variance"
   ]
  },
  {
   "cell_type": "code",
   "execution_count": 32,
   "metadata": {},
   "outputs": [],
   "source": [
    "pca = PCA(n_components=0.95)"
   ]
  },
  {
   "cell_type": "markdown",
   "metadata": {},
   "source": [
    "Fit the PCA on the training features for analysis"
   ]
  },
  {
   "cell_type": "code",
   "execution_count": 33,
   "metadata": {},
   "outputs": [],
   "source": [
    "pca_training_features = pca.fit_transform(features_train)"
   ]
  },
  {
   "cell_type": "markdown",
   "metadata": {},
   "source": [
    "Transform the PCA on the testing features for analysis"
   ]
  },
  {
   "cell_type": "code",
   "execution_count": 34,
   "metadata": {},
   "outputs": [],
   "source": [
    "pca_testing_features = pca.transform(features_test)"
   ]
  },
  {
   "cell_type": "markdown",
   "metadata": {},
   "source": [
    "Check the number of princpal components generated, this is called on the pipeline object"
   ]
  },
  {
   "cell_type": "code",
   "execution_count": 35,
   "metadata": {},
   "outputs": [
    {
     "name": "stdout",
     "output_type": "stream",
     "text": [
      "Number of principal components generated \n",
      " 18\n"
     ]
    }
   ],
   "source": [
    "print(\"Number of principal components generated\",\n",
    "      \"\\n\", pca.n_components_)"
   ]
  },
  {
   "cell_type": "code",
   "execution_count": null,
   "metadata": {},
   "outputs": [],
   "source": [
    "print(\"\\n\")"
   ]
  },
  {
   "cell_type": "markdown",
   "metadata": {},
   "source": [
    "Check the shape of the PCA training features"
   ]
  },
  {
   "cell_type": "code",
   "execution_count": 36,
   "metadata": {},
   "outputs": [
    {
     "name": "stdout",
     "output_type": "stream",
     "text": [
      "Shape of PCA Training Features: (13197, 18)\n"
     ]
    }
   ],
   "source": [
    "print(\"Shape of PCA Training Features: {}\".format(pca_training_features.shape))"
   ]
  },
  {
   "cell_type": "code",
   "execution_count": null,
   "metadata": {},
   "outputs": [],
   "source": [
    "print(\"\\n\")"
   ]
  },
  {
   "cell_type": "markdown",
   "metadata": {},
   "source": [
    "Check the shape of the PCA testing features"
   ]
  },
  {
   "cell_type": "code",
   "execution_count": 37,
   "metadata": {},
   "outputs": [
    {
     "name": "stdout",
     "output_type": "stream",
     "text": [
      "Shape of PCA Testing Features: (3300, 18)\n"
     ]
    }
   ],
   "source": [
    "print(\"Shape of PCA Testing Features: {}\".format(pca_testing_features.shape))"
   ]
  },
  {
   "cell_type": "code",
   "execution_count": null,
   "metadata": {},
   "outputs": [],
   "source": [
    "print(\"\\n\")"
   ]
  },
  {
   "cell_type": "markdown",
   "metadata": {},
   "source": [
    "Create a DataFrame that stores the training features"
   ]
  },
  {
   "cell_type": "code",
   "execution_count": 38,
   "metadata": {},
   "outputs": [],
   "source": [
    "pca_train_features_DF = pd.DataFrame(data=pca_training_features, columns=[\n",
    "    'principal component 1', 'principal component 2', 'principal component 3', 'principal component 4', 'principal component 5', 'principal component 6', 'principal component 7', 'principal component 8', 'principal component 9', 'principal component 10', 'principal component 11', 'principal component 12', 'principal component 13', 'principal component 14', 'principal component 15', 'principal component 16', 'principal component 17', 'principal component 18'])"
   ]
  },
  {
   "cell_type": "markdown",
   "metadata": {},
   "source": [
    "Create a DataFrame that stores the testing features"
   ]
  },
  {
   "cell_type": "code",
   "execution_count": 39,
   "metadata": {},
   "outputs": [],
   "source": [
    "pca_test_features_DF = pd.DataFrame(data=pca_testing_features, columns=[\n",
    "    'principal component 1', 'principal component 2', 'principal component 3', 'principal component 4', 'principal component 5', 'principal component 6', 'principal component 7', 'principal component 8', 'principal component 9', 'principal component 10', 'principal component 11', 'principal component 12', 'principal component 13', 'principal component 14', 'principal component 15', 'principal component 16', 'principal component 17', 'principal component 18'])"
   ]
  },
  {
   "cell_type": "markdown",
   "metadata": {},
   "source": [
    "Show the first 5 rows of the prinicipal component training DataFrame"
   ]
  },
  {
   "cell_type": "code",
   "execution_count": 40,
   "metadata": {},
   "outputs": [
    {
     "name": "stdout",
     "output_type": "stream",
     "text": [
      "The first 5 rows of the Principal Component Training DataFrame\n",
      "   principal component 1  principal component 2  principal component 3  \\\n",
      "0               2.019438              -1.109031              -0.472858   \n",
      "1               2.396165              -0.393985               0.655771   \n",
      "2               1.176204               2.027800               1.651891   \n",
      "3               2.156629              -1.044705               0.188490   \n",
      "4               0.519548               1.546652               1.811896   \n",
      "\n",
      "   principal component 4  principal component 5  principal component 6  \\\n",
      "0               0.922522              -0.343351               0.514441   \n",
      "1              -1.666621              -0.115982              -0.500671   \n",
      "2               0.797266               1.040526              -1.015300   \n",
      "3              -0.658191              -1.040048               0.415569   \n",
      "4              -0.077665              -1.696650               0.081665   \n",
      "\n",
      "   principal component 7  principal component 8  principal component 9  \\\n",
      "0               0.783819               0.070904               0.651222   \n",
      "1               0.118780              -0.245139              -0.867152   \n",
      "2              -0.799801              -0.161508               1.794609   \n",
      "3              -0.101652              -0.180589              -1.358821   \n",
      "4              -0.976072               0.723318              -0.394374   \n",
      "\n",
      "   principal component 10  principal component 11  principal component 12  \\\n",
      "0               -1.039412               -0.858623                0.646485   \n",
      "1               -0.594212               -0.346717                0.067259   \n",
      "2               -0.922048                0.334857                0.406195   \n",
      "3                0.521318                0.329830                0.534657   \n",
      "4                0.123146                0.492020                1.065187   \n",
      "\n",
      "   principal component 13  principal component 14  principal component 15  \\\n",
      "0               -0.719750                0.147142                0.344214   \n",
      "1                0.031979               -0.095349               -0.240877   \n",
      "2                0.884780                0.822446                0.174526   \n",
      "3                0.003777                0.055511                0.864116   \n",
      "4                0.502352               -0.111645                0.165254   \n",
      "\n",
      "   principal component 16  principal component 17  principal component 18  \n",
      "0                0.008447               -0.051128                0.302941  \n",
      "1                0.070837               -0.043638               -0.005630  \n",
      "2                0.062474               -0.095334                0.129119  \n",
      "3               -0.078504                0.023046                0.381021  \n",
      "4                0.701736                0.738051                0.090961  \n"
     ]
    }
   ],
   "source": [
    "print(\"The first 5 rows of the Principal Component Training DataFrame\")\n",
    "print(pca_train_features_DF.head())"
   ]
  },
  {
   "cell_type": "code",
   "execution_count": null,
   "metadata": {},
   "outputs": [],
   "source": [
    "print(\"\\n\")"
   ]
  },
  {
   "cell_type": "markdown",
   "metadata": {},
   "source": [
    "Show the first 5 rows of the prinicipal component testing DataFrame"
   ]
  },
  {
   "cell_type": "code",
   "execution_count": 41,
   "metadata": {},
   "outputs": [
    {
     "name": "stdout",
     "output_type": "stream",
     "text": [
      "The first 5 rows of the Principal Component Testing DataFrame\n",
      "   principal component 1  principal component 2  principal component 3  \\\n",
      "0              -2.225956              -0.531874              -1.157605   \n",
      "1              -1.990295              -0.778327              -0.669502   \n",
      "2               1.009311               1.723589               1.529120   \n",
      "3               3.211239               0.593445              -0.004287   \n",
      "4               0.296269               3.863068               0.991833   \n",
      "\n",
      "   principal component 4  principal component 5  principal component 6  \\\n",
      "0              -0.549760               0.383926              -0.061074   \n",
      "1              -0.594428               0.645365               0.611723   \n",
      "2              -0.441249               0.547911               0.494543   \n",
      "3              -0.142666               1.465961              -0.841076   \n",
      "4              -0.277169              -0.274720               0.262854   \n",
      "\n",
      "   principal component 7  principal component 8  principal component 9  \\\n",
      "0              -0.679227               0.191573              -0.050603   \n",
      "1               0.319409               0.078894               0.120733   \n",
      "2              -0.141158               1.404550              -0.730647   \n",
      "3               0.152506              -0.054478               1.602662   \n",
      "4               0.730036               1.004952               0.577489   \n",
      "\n",
      "   principal component 10  principal component 11  principal component 12  \\\n",
      "0               -0.125935                0.023419               -0.063176   \n",
      "1                0.264717               -0.204315                0.753772   \n",
      "2               -1.171009               -0.193450               -0.538290   \n",
      "3               -0.948215               -0.730078               -1.109286   \n",
      "4                0.006560               -0.332740                0.230978   \n",
      "\n",
      "   principal component 13  principal component 14  principal component 15  \\\n",
      "0               -0.367153                0.086974                0.111842   \n",
      "1                1.084579                0.128564               -0.460185   \n",
      "2               -0.468753                0.140222               -0.393431   \n",
      "3                1.151990                0.938842                1.306076   \n",
      "4               -0.108016               -0.230288               -0.058531   \n",
      "\n",
      "   principal component 16  principal component 17  principal component 18  \n",
      "0                0.121660                0.113268                0.004833  \n",
      "1               -0.013072                0.369998                0.082334  \n",
      "2               -0.157936                0.605438                0.056567  \n",
      "3                0.008783               -0.037621                0.125588  \n",
      "4                0.396454                0.103249               -0.152373  \n"
     ]
    }
   ],
   "source": [
    "print(\"The first 5 rows of the Principal Component Testing DataFrame\")\n",
    "print(pca_test_features_DF.head())"
   ]
  },
  {
   "cell_type": "code",
   "execution_count": null,
   "metadata": {},
   "outputs": [],
   "source": [
    "print(\"\\n\")"
   ]
  },
  {
   "cell_type": "markdown",
   "metadata": {},
   "source": [
    "Show the last 5 rows of the principal component training DataFrame"
   ]
  },
  {
   "cell_type": "code",
   "execution_count": 42,
   "metadata": {},
   "outputs": [
    {
     "name": "stdout",
     "output_type": "stream",
     "text": [
      "The last 5 rows of the Principal Component Training DataFrame\n",
      "       principal component 1  principal component 2  principal component 3  \\\n",
      "13192               0.618128               2.962569               1.079529   \n",
      "13193              -2.216255              -0.500801               0.178265   \n",
      "13194              -2.397919              -0.068452              -1.169922   \n",
      "13195              -1.820971              -0.699583               1.529852   \n",
      "13196              -2.093301              -0.329768              -1.168020   \n",
      "\n",
      "       principal component 4  principal component 5  principal component 6  \\\n",
      "13192              -1.023245               0.785804              -0.505482   \n",
      "13193              -0.026218               1.059426               0.771013   \n",
      "13194              -0.534417               0.048950               0.015587   \n",
      "13195               0.687340              -0.681610              -0.704492   \n",
      "13196              -0.969283               0.307020               0.590358   \n",
      "\n",
      "       principal component 7  principal component 8  principal component 9  \\\n",
      "13192               1.756691              -0.305457               0.033617   \n",
      "13193              -0.244215               0.099179              -0.467446   \n",
      "13194              -0.414381              -0.093212              -0.067417   \n",
      "13195              -0.669203              -0.503725               0.600401   \n",
      "13196               1.100729              -0.561075               0.213172   \n",
      "\n",
      "       principal component 10  principal component 11  principal component 12  \\\n",
      "13192               -0.220964                0.500312               -0.101591   \n",
      "13193                0.119610               -0.350352               -0.252381   \n",
      "13194               -0.086939               -0.007023               -0.362642   \n",
      "13195               -0.089300                0.074970                0.625547   \n",
      "13196                0.248560                0.234399               -0.593295   \n",
      "\n",
      "       principal component 13  principal component 14  principal component 15  \\\n",
      "13192               -0.392276                0.060875               -0.227784   \n",
      "13193               -0.274858               -0.086202                0.142777   \n",
      "13194               -0.550509               -0.026738                0.248969   \n",
      "13195                0.551574                0.253729               -0.285433   \n",
      "13196               -0.222475               -0.287167                0.166429   \n",
      "\n",
      "       principal component 16  principal component 17  principal component 18  \n",
      "13192               -0.310315               -0.062273               -0.190903  \n",
      "13193                0.554922                0.066119               -0.108403  \n",
      "13194                0.608218                0.387371               -0.105228  \n",
      "13195                0.103288               -0.196436               -0.102711  \n",
      "13196               -0.440554                0.379909                0.127357  \n"
     ]
    }
   ],
   "source": [
    "print(\"The last 5 rows of the Principal Component Training DataFrame\")\n",
    "print(pca_train_features_DF.tail())"
   ]
  },
  {
   "cell_type": "code",
   "execution_count": null,
   "metadata": {},
   "outputs": [],
   "source": [
    "print(\"\\n\")"
   ]
  },
  {
   "cell_type": "markdown",
   "metadata": {},
   "source": [
    "Show the last 5 rows of the principal component training DataFrame"
   ]
  },
  {
   "cell_type": "code",
   "execution_count": 43,
   "metadata": {},
   "outputs": [
    {
     "name": "stdout",
     "output_type": "stream",
     "text": [
      "The last 5 rows of the Principal Component Testing DataFrame\n",
      "      principal component 1  principal component 2  principal component 3  \\\n",
      "3295              -2.193771              -0.499999               0.375671   \n",
      "3296               2.591873              -0.377641               0.366494   \n",
      "3297               2.254674              -0.600513               0.384684   \n",
      "3298              -2.054810              -0.794448              -0.978213   \n",
      "3299               3.162037               0.208034               0.198892   \n",
      "\n",
      "      principal component 4  principal component 5  principal component 6  \\\n",
      "3295               0.049268               1.093368               0.939720   \n",
      "3296              -0.884403              -0.583733               0.847510   \n",
      "3297              -1.194823               0.132056              -1.194559   \n",
      "3298              -0.637355               0.421824              -0.241531   \n",
      "3299              -0.550394               0.139544               0.558491   \n",
      "\n",
      "      principal component 7  principal component 8  principal component 9  \\\n",
      "3295              -0.276720              -0.355363              -0.383008   \n",
      "3296              -0.441408               0.403728               0.545757   \n",
      "3297               0.528692              -0.697768              -1.420047   \n",
      "3298              -0.019320               0.771405               0.074540   \n",
      "3299              -0.601736               0.317363               0.796306   \n",
      "\n",
      "      principal component 10  principal component 11  principal component 12  \\\n",
      "3295                0.150158               -0.414217               -0.095083   \n",
      "3296                0.072157               -0.006947                0.265980   \n",
      "3297               -0.009993               -0.583961               -0.079288   \n",
      "3298                0.025526                0.345396                0.236278   \n",
      "3299               -0.210845                0.549017               -0.871719   \n",
      "\n",
      "      principal component 13  principal component 14  principal component 15  \\\n",
      "3295               -0.083060               -0.101249                0.055678   \n",
      "3296               -0.114863               -0.658295                0.421083   \n",
      "3297                0.064739                0.931987               -0.028343   \n",
      "3298               -0.061809                0.095965                0.053334   \n",
      "3299                0.901308                0.014889                0.550466   \n",
      "\n",
      "      principal component 16  principal component 17  principal component 18  \n",
      "3295                0.512390                0.014342               -0.130046  \n",
      "3296                0.029610               -0.072882                0.255879  \n",
      "3297                0.003158               -0.021028                0.069177  \n",
      "3298                0.393929               -0.227109               -0.110004  \n",
      "3299                0.034355               -0.129552                0.051532  \n"
     ]
    }
   ],
   "source": [
    "print(\"The last 5 rows of the Principal Component Testing DataFrame\")\n",
    "print(pca_test_features_DF.tail())"
   ]
  },
  {
   "cell_type": "code",
   "execution_count": null,
   "metadata": {},
   "outputs": [],
   "source": [
    "print(\"\\n\")"
   ]
  },
  {
   "cell_type": "markdown",
   "metadata": {},
   "source": [
    "Print the cumulative sum of the PCA Training DataFrame"
   ]
  },
  {
   "cell_type": "code",
   "execution_count": 44,
   "metadata": {},
   "outputs": [
    {
     "name": "stdout",
     "output_type": "stream",
     "text": [
      "Cumulative sum of the PCA Training DataFrame\n",
      "       principal component 1  principal component 2  principal component 3  \\\n",
      "0               2.019438e+00          -1.109031e+00          -4.728583e-01   \n",
      "1               4.415603e+00          -1.503016e+00           1.829125e-01   \n",
      "2               5.591806e+00           5.247841e-01           1.834804e+00   \n",
      "3               7.748435e+00          -5.199211e-01           2.023294e+00   \n",
      "4               8.267983e+00           1.026731e+00           3.835190e+00   \n",
      "...                      ...                    ...                    ...   \n",
      "13192           8.528446e+00           1.598605e+00           6.298245e-01   \n",
      "13193           6.312191e+00           1.097804e+00           8.080898e-01   \n",
      "13194           3.914272e+00           1.029352e+00          -3.618320e-01   \n",
      "13195           2.093301e+00           3.297683e-01           1.168020e+00   \n",
      "13196          -1.950129e-11          -2.026553e-10          -8.344740e-10   \n",
      "\n",
      "       principal component 4  principal component 5  principal component 6  \\\n",
      "0               9.225219e-01          -3.433508e-01           5.144408e-01   \n",
      "1              -7.440994e-01          -4.593324e-01           1.376957e-02   \n",
      "2               5.316626e-02           5.811937e-01          -1.001530e+00   \n",
      "3              -6.050244e-01          -4.588540e-01          -5.859610e-01   \n",
      "4              -6.826898e-01          -2.155504e+00          -5.042961e-01   \n",
      "...                      ...                    ...                    ...   \n",
      "13192           8.425781e-01          -7.337855e-01          -6.724659e-01   \n",
      "13193           8.163600e-01           3.256401e-01           9.854667e-02   \n",
      "13194           2.819435e-01           3.745904e-01           1.141340e-01   \n",
      "13195           9.692831e-01          -3.070201e-01          -5.903583e-01   \n",
      "13196           2.161783e-09           2.220862e-11          -2.179458e-09   \n",
      "\n",
      "       principal component 7  principal component 8  principal component 9  \\\n",
      "0               7.838187e-01           7.090394e-02           6.512215e-01   \n",
      "1               9.025989e-01          -1.742348e-01          -2.159306e-01   \n",
      "2               1.027982e-01          -3.357425e-01           1.578678e+00   \n",
      "3               1.146159e-03          -5.163312e-01           2.198569e-01   \n",
      "4              -9.749262e-01           2.069864e-01          -1.745166e-01   \n",
      "...                      ...                    ...                    ...   \n",
      "13192           2.270695e-01           1.058834e+00          -2.787094e-01   \n",
      "13193          -1.714509e-02           1.158012e+00          -7.461552e-01   \n",
      "13194          -4.315264e-01           1.064800e+00          -8.135725e-01   \n",
      "13195          -1.100729e+00           5.610754e-01          -2.131717e-01   \n",
      "13196           3.423706e-10          -3.201458e-10          -1.087399e-09   \n",
      "\n",
      "       principal component 10  principal component 11  principal component 12  \\\n",
      "0               -1.039412e+00           -8.586233e-01            6.464846e-01   \n",
      "1               -1.633624e+00           -1.205341e+00            7.137441e-01   \n",
      "2               -2.555672e+00           -8.704840e-01            1.119939e+00   \n",
      "3               -2.034354e+00           -5.406544e-01            1.654596e+00   \n",
      "4               -1.911208e+00           -4.863461e-02            2.719783e+00   \n",
      "...                       ...                     ...                     ...   \n",
      "13192           -1.919323e-01            4.800515e-02            5.827708e-01   \n",
      "13193           -7.232192e-02           -3.023464e-01            3.303901e-01   \n",
      "13194           -1.592606e-01           -3.093691e-01           -3.225193e-02   \n",
      "13195           -2.485603e-01           -2.343990e-01            5.932953e-01   \n",
      "13196            5.524752e-10            1.334919e-09           -1.436429e-09   \n",
      "\n",
      "       principal component 13  principal component 14  principal component 15  \\\n",
      "0               -7.197500e-01            1.471416e-01            3.442142e-01   \n",
      "1               -6.877708e-01            5.179287e-02            1.033377e-01   \n",
      "2                1.970095e-01            8.742386e-01            2.778639e-01   \n",
      "3                2.007866e-01            9.297491e-01            1.141980e+00   \n",
      "4                7.031387e-01            8.181039e-01            1.307233e+00   \n",
      "...                       ...                     ...                     ...   \n",
      "13192            4.962672e-01            1.463770e-01           -2.727416e-01   \n",
      "13193            2.214090e-01            6.017536e-02           -1.299642e-01   \n",
      "13194           -3.290996e-01            3.343764e-02            1.190046e-01   \n",
      "13195            2.224746e-01            2.871671e-01           -1.664287e-01   \n",
      "13196           -4.127093e-10           -1.186115e-09            1.881064e-09   \n",
      "\n",
      "       principal component 16  principal component 17  principal component 18  \n",
      "0                8.446524e-03           -5.112798e-02            3.029408e-01  \n",
      "1                7.928368e-02           -9.476562e-02            2.973112e-01  \n",
      "2                1.417581e-01           -1.900997e-01            4.264307e-01  \n",
      "3                6.325458e-02           -1.670542e-01            8.074514e-01  \n",
      "4                7.649911e-01            5.709965e-01            8.984124e-01  \n",
      "...                       ...                     ...                     ...  \n",
      "13192           -8.258735e-01           -6.369635e-01            1.889851e-01  \n",
      "13193           -2.709516e-01           -5.708441e-01            8.058238e-02  \n",
      "13194            3.372667e-01           -1.834735e-01           -2.464539e-02  \n",
      "13195            4.405543e-01           -3.799095e-01           -1.273568e-01  \n",
      "13196           -6.205782e-10            1.102598e-09            4.812739e-10  \n",
      "\n",
      "[13197 rows x 18 columns]\n"
     ]
    }
   ],
   "source": [
    "print(\"Cumulative sum of the PCA Training DataFrame\")\n",
    "print(pca_train_features_DF.cumsum())"
   ]
  },
  {
   "cell_type": "code",
   "execution_count": null,
   "metadata": {},
   "outputs": [],
   "source": [
    "print(\"\\n\")"
   ]
  },
  {
   "cell_type": "markdown",
   "metadata": {},
   "source": [
    "Print the cumulative sum of the PCA Testing DataFrame"
   ]
  },
  {
   "cell_type": "code",
   "execution_count": 45,
   "metadata": {},
   "outputs": [
    {
     "name": "stdout",
     "output_type": "stream",
     "text": [
      "Cumulative sum of the PCA Testing DataFrame\n",
      "      principal component 1  principal component 2  principal component 3  \\\n",
      "0                 -2.225956              -0.531874              -1.157605   \n",
      "1                 -4.216251              -1.310201              -1.827107   \n",
      "2                 -3.206940               0.413389              -0.297987   \n",
      "3                  0.004299               1.006834              -0.302274   \n",
      "4                  0.300567               4.869902               0.689559   \n",
      "...                     ...                    ...                    ...   \n",
      "3295              61.869434             147.419874             -17.400431   \n",
      "3296              64.461307             147.042233             -17.033937   \n",
      "3297              66.715981             146.441720             -16.649253   \n",
      "3298              64.661171             145.647272             -17.627466   \n",
      "3299              67.823208             145.855306             -17.428574   \n",
      "\n",
      "      principal component 4  principal component 5  principal component 6  \\\n",
      "0                 -0.549760               0.383926              -0.061074   \n",
      "1                 -1.144188               1.029291               0.550648   \n",
      "2                 -1.585438               1.577202               1.045192   \n",
      "3                 -1.728104               3.043163               0.204116   \n",
      "4                 -2.005273               2.768442               0.466970   \n",
      "...                     ...                    ...                    ...   \n",
      "3295             -35.412790              14.786506             -18.054055   \n",
      "3296             -36.297193              14.202773             -17.206544   \n",
      "3297             -37.492016              14.334829             -18.401104   \n",
      "3298             -38.129371              14.756653             -18.642635   \n",
      "3299             -38.679765              14.896197             -18.084144   \n",
      "\n",
      "      principal component 7  principal component 8  principal component 9  \\\n",
      "0                 -0.679227               0.191573              -0.050603   \n",
      "1                 -0.359818               0.270467               0.070130   \n",
      "2                 -0.500976               1.675017              -0.660517   \n",
      "3                 -0.348470               1.620540               0.942146   \n",
      "4                  0.381566               2.625492               1.519635   \n",
      "...                     ...                    ...                    ...   \n",
      "3295             -15.468001             -35.774557              38.953000   \n",
      "3296             -15.909409             -35.370829              39.498756   \n",
      "3297             -15.380717             -36.068596              38.078709   \n",
      "3298             -15.400037             -35.297191              38.153249   \n",
      "3299             -16.001773             -34.979828              38.949554   \n",
      "\n",
      "      principal component 10  principal component 11  principal component 12  \\\n",
      "0                  -0.125935                0.023419               -0.063176   \n",
      "1                   0.138782               -0.180896                0.690596   \n",
      "2                  -1.032227               -0.374347                0.152305   \n",
      "3                  -1.980442               -1.104425               -0.956981   \n",
      "4                  -1.973882               -1.437165               -0.726003   \n",
      "...                      ...                     ...                     ...   \n",
      "3295              -41.587618               35.354468               -8.426326   \n",
      "3296              -41.515461               35.347520               -8.160346   \n",
      "3297              -41.525454               34.763560               -8.239634   \n",
      "3298              -41.499928               35.108956               -8.003356   \n",
      "3299              -41.710773               35.657973               -8.875075   \n",
      "\n",
      "      principal component 13  principal component 14  principal component 15  \\\n",
      "0                  -0.367153                0.086974                0.111842   \n",
      "1                   0.717426                0.215538               -0.348343   \n",
      "2                   0.248673                0.355760               -0.741774   \n",
      "3                   1.400663                1.294602                0.564301   \n",
      "4                   1.292647                1.064315                0.505770   \n",
      "...                      ...                     ...                     ...   \n",
      "3295               -8.059448               17.039477              -20.595820   \n",
      "3296               -8.174310               16.381182              -20.174737   \n",
      "3297               -8.109572               17.313169              -20.203080   \n",
      "3298               -8.171381               17.409134              -20.149747   \n",
      "3299               -7.270073               17.424023              -19.599281   \n",
      "\n",
      "      principal component 16  principal component 17  principal component 18  \n",
      "0                   0.121660                0.113268                0.004833  \n",
      "1                   0.108588                0.483266                0.087167  \n",
      "2                  -0.049349                1.088703                0.143734  \n",
      "3                  -0.040566                1.051083                0.269322  \n",
      "4                   0.355888                1.154331                0.116949  \n",
      "...                      ...                     ...                     ...  \n",
      "3295              -39.519447               23.165107              -42.819176  \n",
      "3296              -39.489837               23.092225              -42.563297  \n",
      "3297              -39.486679               23.071196              -42.494120  \n",
      "3298              -39.092750               22.844088              -42.604124  \n",
      "3299              -39.058395               22.714536              -42.552592  \n",
      "\n",
      "[3300 rows x 18 columns]\n"
     ]
    }
   ],
   "source": [
    "print(\"Cumulative sum of the PCA Testing DataFrame\")\n",
    "print(pca_test_features_DF.cumsum())"
   ]
  },
  {
   "cell_type": "code",
   "execution_count": null,
   "metadata": {},
   "outputs": [],
   "source": [
    "print(\"\\n\")"
   ]
  },
  {
   "cell_type": "markdown",
   "metadata": {},
   "source": [
    "Print the covariance matrix of the PCA Training DataFrame"
   ]
  },
  {
   "cell_type": "code",
   "execution_count": 46,
   "metadata": {},
   "outputs": [
    {
     "name": "stdout",
     "output_type": "stream",
     "text": [
      "Covariance Matrix of the PCA Training DataFrame: \n",
      "[[ 4.71848701e+00 -3.69917293e-16 -2.13362048e-16  4.26724097e-17\n",
      "  -4.15955034e-17  7.43065304e-17  4.30762495e-17 -4.41531558e-17\n",
      "  -2.26419537e-16  4.52300620e-17  1.40536264e-16 -9.58446552e-17\n",
      "  -9.96138270e-17  5.08838197e-17  1.32997920e-16 -1.50766873e-17\n",
      "  -1.03652225e-17 -5.46529916e-17]\n",
      " [-3.69917293e-16  1.33899441e+00  5.80452462e-16 -9.42292958e-17\n",
      "   2.45534622e-16 -1.97073842e-16 -6.03067493e-17  2.01919920e-17\n",
      "   1.16844327e-16 -9.76619344e-17  2.04612185e-17 -1.26536483e-17\n",
      "  -6.46143743e-17 -6.99989055e-18 -1.20613499e-16 -1.02306093e-17\n",
      "  -4.30762495e-18  1.45382342e-17]\n",
      " [-2.13362048e-16  5.80452462e-16  1.11476566e+00 -2.03669892e-16\n",
      "  -6.00375228e-17 -1.00152280e-16  1.77689529e-17  1.37843998e-16\n",
      "  -1.16709714e-16 -5.35760853e-17  1.33469067e-16  1.57497537e-17\n",
      "   2.70740959e-17 -7.13450383e-17 -6.50182141e-17 -6.73066399e-18\n",
      "  -4.29248096e-17 -4.81242475e-17]\n",
      " [ 4.26724097e-17 -9.42292958e-17 -2.03669892e-16  7.55866246e-01\n",
      "   1.37305545e-17 -2.51457607e-16  2.53072966e-17 -6.78450930e-17\n",
      "   6.59605071e-17 -3.66148121e-17 -1.10921343e-16 -6.40759212e-17\n",
      "  -4.83261674e-17 -3.31148668e-17  1.64766654e-16 -9.94455604e-18\n",
      "   9.01908974e-18  8.00949014e-17]\n",
      " [-4.15955034e-17  2.45534622e-16 -6.00375228e-17  1.37305545e-17\n",
      "   5.21896816e-01 -2.23458044e-17 -1.01229186e-16  1.61535936e-18\n",
      "   3.27110270e-17  1.33940213e-16 -2.31534841e-17 -1.76343396e-17\n",
      "   6.17874954e-17  6.75758664e-17 -2.36919372e-17 -4.60040883e-17\n",
      "  -1.13075155e-17 -3.06918278e-17]\n",
      " [ 7.43065304e-17 -1.97073842e-16 -1.00152280e-16 -2.51457607e-16\n",
      "  -2.23458044e-17  4.23885328e-01 -5.12540063e-17 -8.48063662e-18\n",
      "   8.07679678e-18 -4.76531010e-17  2.53072966e-17 -3.20379606e-17\n",
      "   3.58071324e-17  2.96149215e-18  3.24418004e-17  7.13450383e-18\n",
      "   1.81054861e-17 -4.34127827e-18]\n",
      " [ 4.30762495e-17 -6.03067493e-17  1.77689529e-17  2.53072966e-17\n",
      "  -1.01229186e-16 -5.12540063e-17  4.08366958e-01  2.03804506e-16\n",
      "   6.75758664e-17  2.36919372e-17  7.96910616e-17 -4.54992886e-17\n",
      "  -3.25764137e-17  5.41145385e-17  2.82687887e-17  4.89992338e-17\n",
      "  -2.74611091e-17  1.70285799e-17]\n",
      " [-4.41531558e-17  2.01919920e-17  1.37843998e-16 -6.78450930e-17\n",
      "   1.61535936e-18 -8.48063662e-18  2.03804506e-16  3.87748415e-01\n",
      "   1.10652116e-16 -1.23844217e-17  9.11331904e-17 -6.04413626e-17\n",
      "   1.89804724e-17  5.30376322e-17 -2.27496443e-17 -1.58843670e-17\n",
      "   8.77678584e-17 -3.01533747e-17]\n",
      " [-2.26419537e-16  1.16844327e-16 -1.16709714e-16  6.59605071e-17\n",
      "   3.27110270e-17  8.07679678e-18  6.75758664e-17  1.10652116e-16\n",
      "   3.24737599e-01  6.48836008e-17  1.49891887e-16 -1.23978831e-16\n",
      "   7.16815715e-18 -6.24605618e-17  2.58457497e-17 -4.73838745e-17\n",
      "  -3.52686793e-17  6.54220540e-17]\n",
      " [ 4.52300620e-17 -9.76619344e-17 -5.35760853e-17 -3.66148121e-17\n",
      "   1.33940213e-16 -4.76531010e-17  2.36919372e-17 -1.23844217e-17\n",
      "   6.48836008e-17  3.08501975e-01 -9.93446004e-17  7.61911163e-17\n",
      "  -8.34602334e-17 -6.56912805e-17 -3.94416910e-17 -7.60565031e-18\n",
      "  -1.11392489e-17  2.26150310e-17]\n",
      " [ 1.40536264e-16  2.04612185e-17  1.33469067e-16 -1.10921343e-16\n",
      "  -2.31534841e-17  2.53072966e-17  7.96910616e-17  9.11331904e-17\n",
      "   1.49891887e-16 -9.93446004e-17  2.81674621e-01 -1.72304998e-17\n",
      "   5.11530463e-17 -1.66920467e-17 -5.78837103e-17  1.88458592e-17\n",
      "   1.29228749e-17  6.99989055e-18]\n",
      " [-9.58446552e-17 -1.26536483e-17  1.57497537e-17 -6.40759212e-17\n",
      "  -1.76343396e-17 -3.20379606e-17 -4.54992886e-17 -6.04413626e-17\n",
      "  -1.23978831e-16  7.61911163e-17 -1.72304998e-17  2.32890093e-01\n",
      "  -9.74263612e-17  5.31722455e-17  2.34227107e-17  5.44174183e-17\n",
      "  -2.96149215e-18  2.55765231e-17]\n",
      " [-9.96138270e-17 -6.46143743e-17  2.70740959e-17 -4.83261674e-17\n",
      "   6.17874954e-17  3.58071324e-17 -3.25764137e-17  1.89804724e-17\n",
      "   7.16815715e-18 -8.34602334e-17  5.11530463e-17 -9.74263612e-17\n",
      "   2.14722872e-01  4.09224370e-17 -5.24991791e-18  1.00959960e-17\n",
      "  -6.73066399e-18  4.50954487e-17]\n",
      " [ 5.08838197e-17 -6.99989055e-18 -7.13450383e-17 -3.31148668e-17\n",
      "   6.75758664e-17  2.96149215e-18  5.41145385e-17  5.30376322e-17\n",
      "  -6.24605618e-17 -6.56912805e-17 -1.66920467e-17  5.31722455e-17\n",
      "   4.09224370e-17  1.83106148e-01  1.77689529e-17  4.84607807e-18\n",
      "   1.88458592e-18 -7.26911711e-18]\n",
      " [ 1.32997920e-16 -1.20613499e-16 -6.50182141e-17  1.64766654e-16\n",
      "  -2.36919372e-17  3.24418004e-17  2.82687887e-17 -2.27496443e-17\n",
      "   2.58457497e-17 -3.94416910e-17 -5.78837103e-17  2.34227107e-17\n",
      "  -5.24991791e-18  1.77689529e-17  1.59121856e-01 -2.20765779e-17\n",
      "  -2.69226559e-18  1.74997264e-18]\n",
      " [-1.50766873e-17 -1.02306093e-17 -6.73066399e-18 -9.94455604e-18\n",
      "  -4.60040883e-17  7.13450383e-18  4.89992338e-17 -1.58843670e-17\n",
      "  -4.73838745e-17 -7.60565031e-18  1.88458592e-17  5.44174183e-17\n",
      "   1.00959960e-17  4.84607807e-18 -2.20765779e-17  1.25814762e-01\n",
      "  -2.05285252e-17  1.15767421e-17]\n",
      " [-1.03652225e-17 -4.30762495e-18 -4.29248096e-17  9.01908974e-18\n",
      "  -1.13075155e-17  1.81054861e-17 -2.74611091e-17  8.77678584e-17\n",
      "  -3.52686793e-17 -1.11392489e-17  1.29228749e-17 -2.96149215e-18\n",
      "  -6.73066399e-18  1.88458592e-18 -2.69226559e-18 -2.05285252e-17\n",
      "   8.73856092e-02 -6.13163489e-17]\n",
      " [-5.46529916e-17  1.45382342e-17 -4.81242475e-17  8.00949014e-17\n",
      "  -3.06918278e-17 -4.34127827e-18  1.70285799e-17 -3.01533747e-17\n",
      "   6.54220540e-17  2.26150310e-17  6.99989055e-18  2.55765231e-17\n",
      "   4.50954487e-17 -7.26911711e-18  1.74997264e-18  1.15767421e-17\n",
      "  -6.13163489e-17  8.61581850e-02]]\n"
     ]
    }
   ],
   "source": [
    "print(\"Covariance Matrix of the PCA Training DataFrame: \\n%s\" %\n",
    "      np.cov(pca_train_features_DF.T))"
   ]
  },
  {
   "cell_type": "code",
   "execution_count": null,
   "metadata": {},
   "outputs": [],
   "source": [
    "print(\"\\n\")"
   ]
  },
  {
   "cell_type": "markdown",
   "metadata": {},
   "source": [
    "Print the covariance matrix of the PCA Testing DataFrame"
   ]
  },
  {
   "cell_type": "code",
   "execution_count": 47,
   "metadata": {},
   "outputs": [
    {
     "name": "stdout",
     "output_type": "stream",
     "text": [
      "Covariance Matrix of the PCA Testing DataFrame: \n",
      "[[ 4.70011608e+00  6.67928620e-02  2.29754591e-02  4.60135929e-04\n",
      "   5.48763982e-02  1.08078781e-03  1.19948708e-02  3.62487404e-02\n",
      "   2.41422862e-02 -1.41404296e-02 -1.17731060e-03 -2.66889132e-02\n",
      "   2.11378578e-02  1.67784876e-02 -7.12228128e-03  9.90877506e-03\n",
      "   6.41432806e-03 -2.07780604e-02]\n",
      " [ 6.67928620e-02  1.41159990e+00  2.55855253e-02 -3.77195103e-02\n",
      "   1.07215472e-02  3.46209103e-03  7.91659302e-03  6.55957596e-03\n",
      "  -1.67019608e-02  8.10553885e-03 -2.81444529e-03  1.18655832e-02\n",
      "  -2.91646759e-03  2.81704283e-03  1.24072873e-02 -5.93236431e-03\n",
      "   4.38562353e-03 -1.31933196e-02]\n",
      " [ 2.29754591e-02  2.55855253e-02  1.13046598e+00 -3.61193813e-03\n",
      "   7.03180436e-04 -1.63036034e-04  8.84096650e-03  1.67894881e-03\n",
      "  -8.84917801e-03  9.97895823e-04 -1.28965149e-03 -3.86887755e-03\n",
      "   1.03408378e-02 -2.34434688e-03  3.13779890e-03  5.65256489e-03\n",
      "   2.52048259e-03  2.15651637e-03]\n",
      " [ 4.60135929e-04 -3.77195103e-02 -3.61193813e-03  7.38072077e-01\n",
      "  -1.89493659e-03  2.06697864e-02  1.16348934e-02  3.53013634e-03\n",
      "  -8.30126499e-03 -7.20413560e-03  3.12008693e-03  9.77428626e-05\n",
      "  -1.06207795e-02  4.10963463e-03 -5.24827944e-03  4.58256170e-03\n",
      "  -1.40915597e-03 -4.53661504e-04]\n",
      " [ 5.48763982e-02  1.07215472e-02  7.03180436e-04 -1.89493659e-03\n",
      "   5.40255852e-01 -7.04517813e-03  4.28876489e-03  4.47344378e-03\n",
      "   1.02923392e-02 -2.64413976e-03  8.02455612e-03 -8.15127077e-03\n",
      "  -7.17184448e-03  1.13059991e-02  1.65600567e-02  8.07137449e-04\n",
      "   2.81675678e-03  1.60263367e-03]\n",
      " [ 1.08078781e-03  3.46209103e-03 -1.63036034e-04  2.06697864e-02\n",
      "  -7.04517813e-03  4.31517771e-01  1.35500919e-02  1.62235495e-04\n",
      "  -1.02044315e-02 -3.98260250e-04  1.35394617e-03  2.28207922e-03\n",
      "  -7.72723105e-03 -6.49606716e-03 -6.27228258e-03  6.59786638e-03\n",
      "  -6.13321894e-03  9.50105844e-04]\n",
      " [ 1.19948708e-02  7.91659302e-03  8.84096650e-03  1.16348934e-02\n",
      "   4.28876489e-03  1.35500919e-02  4.01132816e-01 -1.02740941e-04\n",
      "  -3.12227025e-03 -1.02741162e-02  1.50873693e-03 -6.77917984e-04\n",
      "   3.01259477e-03 -5.20580750e-03 -1.10690598e-02 -5.80230971e-03\n",
      "  -5.35887402e-03  7.38532386e-04]\n",
      " [ 3.62487404e-02  6.55957596e-03  1.67894881e-03  3.53013634e-03\n",
      "   4.47344378e-03  1.62235495e-04 -1.02740941e-04  3.99574642e-01\n",
      "  -1.18726177e-02 -7.10981911e-03  2.63353516e-03 -3.97305257e-04\n",
      "  -6.44472282e-03  5.15265375e-03  2.96208055e-03  1.94943475e-02\n",
      "   3.50690420e-03  1.09841691e-03]\n",
      " [ 2.41422862e-02 -1.67019608e-02 -8.84917801e-03 -8.30126499e-03\n",
      "   1.02923392e-02 -1.02044315e-02 -3.12227025e-03 -1.18726177e-02\n",
      "   3.28859651e-01 -6.27632930e-03 -1.46489337e-02 -6.84608067e-03\n",
      "   1.08225430e-02  5.64419193e-03 -2.85828298e-03 -1.08204038e-02\n",
      "  -1.49936593e-03 -2.68580457e-03]\n",
      " [-1.41404296e-02  8.10553885e-03  9.97895823e-04 -7.20413560e-03\n",
      "  -2.64413976e-03 -3.98260250e-04 -1.02741162e-02 -7.10981911e-03\n",
      "  -6.27632930e-03  3.12795645e-01  3.60860841e-03  3.61519985e-03\n",
      "  -3.25127118e-03  2.60267384e-03  1.40684543e-04 -4.75363546e-03\n",
      "  -1.70615037e-04 -4.67877074e-03]\n",
      " [-1.17731060e-03 -2.81444529e-03 -1.28965149e-03  3.12008693e-03\n",
      "   8.02455612e-03  1.35394617e-03  1.50873693e-03  2.63353516e-03\n",
      "  -1.46489337e-02  3.60860841e-03  2.76566272e-01  1.35561639e-02\n",
      "   1.34337295e-03 -4.63468429e-03  5.41818519e-04 -5.60893177e-03\n",
      "  -5.38761648e-03 -5.51184524e-04]\n",
      " [-2.66889132e-02  1.18655832e-02 -3.86887755e-03  9.77428626e-05\n",
      "  -8.15127077e-03  2.28207922e-03 -6.77917984e-04 -3.97305257e-04\n",
      "  -6.84608067e-03  3.61519985e-03  1.35561639e-02  2.32392702e-01\n",
      "  -7.43738470e-03  3.07105049e-03 -4.04239154e-03 -2.61440398e-04\n",
      "  -8.61993695e-04  2.43292971e-04]\n",
      " [ 2.11378578e-02 -2.91646759e-03  1.03408378e-02 -1.06207795e-02\n",
      "  -7.17184448e-03 -7.72723105e-03  3.01259477e-03 -6.44472282e-03\n",
      "   1.08225430e-02 -3.25127118e-03  1.34337295e-03 -7.43738470e-03\n",
      "   2.23567208e-01  2.82216178e-03  7.55203526e-03 -7.92924095e-04\n",
      "   7.36647175e-04 -1.26191467e-03]\n",
      " [ 1.67784876e-02  2.81704283e-03 -2.34434688e-03  4.10963463e-03\n",
      "   1.13059991e-02 -6.49606716e-03 -5.20580750e-03  5.15265375e-03\n",
      "   5.64419193e-03  2.60267384e-03 -4.63468429e-03  3.07105049e-03\n",
      "   2.82216178e-03  1.79169427e-01  7.48739132e-03 -2.68810629e-03\n",
      "  -2.53848506e-03 -4.14353273e-03]\n",
      " [-7.12228128e-03  1.24072873e-02  3.13779890e-03 -5.24827944e-03\n",
      "   1.65600567e-02 -6.27228258e-03 -1.10690598e-02  2.96208055e-03\n",
      "  -2.85828298e-03  1.40684543e-04  5.41818519e-04 -4.04239154e-03\n",
      "   7.55203526e-03  7.48739132e-03  1.75490413e-01 -2.77734337e-03\n",
      "   4.90426444e-03 -6.29405685e-03]\n",
      " [ 9.90877506e-03 -5.93236431e-03  5.65256489e-03  4.58256170e-03\n",
      "   8.07137449e-04  6.59786638e-03 -5.80230971e-03  1.94943475e-02\n",
      "  -1.08204038e-02 -4.75363546e-03 -5.60893177e-03 -2.61440398e-04\n",
      "  -7.92924095e-04 -2.68810629e-03 -2.77734337e-03  1.21367859e-01\n",
      "  -2.71653416e-03 -2.69694238e-03]\n",
      " [ 6.41432806e-03  4.38562353e-03  2.52048259e-03 -1.40915597e-03\n",
      "   2.81675678e-03 -6.13321894e-03 -5.35887402e-03  3.50690420e-03\n",
      "  -1.49936593e-03 -1.70615037e-04 -5.38761648e-03 -8.61993695e-04\n",
      "   7.36647175e-04 -2.53848506e-03  4.90426444e-03 -2.71653416e-03\n",
      "   9.60499703e-02  2.25359927e-04]\n",
      " [-2.07780604e-02 -1.31933196e-02  2.15651637e-03 -4.53661504e-04\n",
      "   1.60263367e-03  9.50105844e-04  7.38532386e-04  1.09841691e-03\n",
      "  -2.68580457e-03 -4.67877074e-03 -5.51184524e-04  2.43292971e-04\n",
      "  -1.26191467e-03 -4.14353273e-03 -6.29405685e-03 -2.69694238e-03\n",
      "   2.25359927e-04  8.45707324e-02]]\n"
     ]
    }
   ],
   "source": [
    "print(\"Covariance Matrix of the PCA Testing DataFrame: \\n%s\" %\n",
    "      np.cov(pca_test_features_DF.T))"
   ]
  },
  {
   "cell_type": "code",
   "execution_count": null,
   "metadata": {},
   "outputs": [],
   "source": [
    "print(\"\\n\")"
   ]
  },
  {
   "cell_type": "markdown",
   "metadata": {},
   "source": [
    "Find the Eigenvalues for each Principal Component"
   ]
  },
  {
   "cell_type": "code",
   "execution_count": 48,
   "metadata": {},
   "outputs": [
    {
     "name": "stdout",
     "output_type": "stream",
     "text": [
      "Eigenvalues for each Principal Component: [4.71848701 1.33899441 1.11476566 0.75586625 0.52189682 0.42388533\n",
      " 0.40836696 0.38774841 0.3247376  0.30850197 0.28167462 0.23289009\n",
      " 0.21472287 0.18310615 0.15912186 0.12581476 0.08738561 0.08615819]\n"
     ]
    }
   ],
   "source": [
    "print(\"Eigenvalues for each Principal Component: {}\".format(\n",
    "    pca.explained_variance_))"
   ]
  },
  {
   "cell_type": "code",
   "execution_count": null,
   "metadata": {},
   "outputs": [],
   "source": [
    "print(\"\\n\")"
   ]
  },
  {
   "cell_type": "markdown",
   "metadata": {},
   "source": [
    "Find the ratio of the explained variation for each principal component"
   ]
  },
  {
   "cell_type": "code",
   "execution_count": 49,
   "metadata": {},
   "outputs": [
    {
     "name": "stdout",
     "output_type": "stream",
     "text": [
      "Ratio of the explained variation for each Principal Component: [0.38458094 0.10913492 0.09085913 0.06160698 0.04253727 0.03454883\n",
      " 0.03328401 0.03160349 0.02646778 0.0251445  0.02295793 0.01898174\n",
      " 0.01750102 0.01492409 0.01296925 0.01025455 0.00712238 0.00702233]\n"
     ]
    }
   ],
   "source": [
    "print(\"Ratio of the explained variation for each Principal Component: {}\".format(\n",
    "    pca.explained_variance_ratio_))"
   ]
  },
  {
   "cell_type": "code",
   "execution_count": null,
   "metadata": {},
   "outputs": [],
   "source": [
    "print(\"\\n\")"
   ]
  },
  {
   "cell_type": "markdown",
   "metadata": {},
   "source": [
    "Find the cumulative proportion of explained variance"
   ]
  },
  {
   "cell_type": "code",
   "execution_count": 50,
   "metadata": {},
   "outputs": [
    {
     "name": "stdout",
     "output_type": "stream",
     "text": [
      "Cumulative proportion of explained variation: [0.38458094 0.49371586 0.58457499 0.64618197 0.68871925 0.72326808\n",
      " 0.75655208 0.78815557 0.81462335 0.83976785 0.86272578 0.88170752\n",
      " 0.89920854 0.91413263 0.92710188 0.93735643 0.9444788  0.95150114]\n"
     ]
    }
   ],
   "source": [
    "print(\"Cumulative proportion of explained variation: {}\".format(\n",
    "    np.cumsum(pca.explained_variance_ratio_)))"
   ]
  },
  {
   "cell_type": "code",
   "execution_count": null,
   "metadata": {},
   "outputs": [],
   "source": [
    "print(\"\\n\")"
   ]
  },
  {
   "cell_type": "markdown",
   "metadata": {},
   "source": [
    "Visualise the number of principal components required to retain maximum variance - Curve plot"
   ]
  },
  {
   "cell_type": "code",
   "execution_count": 51,
   "metadata": {},
   "outputs": [
    {
     "name": "stdout",
     "output_type": "stream",
     "text": [
      "Visualise Number of Principal Components Required - Curve plot\n"
     ]
    },
    {
     "data": {
      "text/plain": [
       "Text(0.5, 1.0, 'The Number of Principal Components Needed to Explain Variance - Curve plot')"
      ]
     },
     "execution_count": 51,
     "metadata": {},
     "output_type": "execute_result"
    },
    {
     "data": {
      "image/png": "[encoded data removed]",
      "text/plain": [
       "<Figure size 432x288 with 1 Axes>"
      ]
     },
     "metadata": {
      "needs_background": "light"
     },
     "output_type": "display_data"
    }
   ],
   "source": [
    "print(\"Visualise Number of Principal Components Required - Curve plot\")\n",
    "pca_plot, pca_ax = plt.subplots()\n",
    "x_components = np.arange(0,18, step=1)\n",
    "y_pca_variance = np.cumsum(pca.explained_variance_ratio_)\n",
    "plt.plot(x_components, y_pca_variance, marker = 'o', linestyle='-', color='b')\n",
    "plt.text(0.5, 0.85, 'Variance Cut-Off Threshhold', color='red', fontsize=10)\n",
    "plt.axhline(y=0.95, color='r', linestyle='--')\n",
    "plt.xlabel('Number of Principal Components')\n",
    "plt.xticks(np.arange(0,18, step=1))\n",
    "plt.ylabel('Cumulative Explained Variance (%)')\n",
    "plt.ylim(0.0, 1.2)\n",
    "plt.title(\"The Number of Principal Components Needed to Explain Variance - Curve plot\")"
   ]
  },
  {
   "cell_type": "code",
   "execution_count": null,
   "metadata": {},
   "outputs": [],
   "source": [
    "pca_ax.grid(axis='x')\n",
    "plt.show()"
   ]
  },
  {
   "cell_type": "code",
   "execution_count": null,
   "metadata": {},
   "outputs": [],
   "source": [
    "print(\"\\n\")"
   ]
  },
  {
   "cell_type": "markdown",
   "metadata": {},
   "source": [
    "Visualise the Eigenvalues for each PCA Component - Barplot"
   ]
  },
  {
   "cell_type": "code",
   "execution_count": 52,
   "metadata": {},
   "outputs": [
    {
     "name": "stdout",
     "output_type": "stream",
     "text": [
      "Eigenvalues for each PCA Component - Barplot\n"
     ]
    },
    {
     "data": {
      "image/png": "[encoded data removed]",
      "text/plain": [
       "<Figure size 432x288 with 1 Axes>"
      ]
     },
     "metadata": {
      "needs_background": "light"
     },
     "output_type": "display_data"
    }
   ],
   "source": [
    "print(\"Eigenvalues for each PCA Component - Barplot\")\n",
    "pca_eigenvalues_DF = pd.DataFrame(\n",
    "    {'Eigenvalues': pca.explained_variance_, 'Principal Components': ['1', '2', '3', '4', '5', '6', '7', '8', '9', '10', '11', '12', '13', '14', '15', '16', '17', '18']})\n",
    "sns.barplot(x='Principal Components', y=\"Eigenvalues\",\n",
    "            data=pca_eigenvalues_DF, color=\"c\")\n",
    "plt.title('Eigenvalues for each Principal Component')\n",
    "plt.show()"
   ]
  },
  {
   "cell_type": "code",
   "execution_count": null,
   "metadata": {},
   "outputs": [],
   "source": [
    "print(\"\\n\")"
   ]
  },
  {
   "cell_type": "markdown",
   "metadata": {},
   "source": [
    "%% 5. Machine Learning Modeling<br>\n",
    "%% 5.1 Support Vector Classifier Machine Model"
   ]
  },
  {
   "cell_type": "markdown",
   "metadata": {},
   "source": [
    "Initialise the model with the necessary hyperparameters"
   ]
  },
  {
   "cell_type": "code",
   "execution_count": 96,
   "metadata": {},
   "outputs": [],
   "source": [
    "svc = SVC(kernel='rbf', gamma='auto', C=25, random_state=42)\n",
    "          \n",
    "# Create the pipeline that fits both the PCA and model to the training subset of data\n",
    "svc_pipe = list()\n",
    "svc_pipe.append(('pca', pca))\n",
    "svc_pipe.append(('svc_model', svc))\n",
    "svc_pipeline = Pipeline(svc_pipe)"
   ]
  },
  {
   "cell_type": "markdown",
   "metadata": {},
   "source": [
    "Declare a variable that stores the time taken to train the model"
   ]
  },
  {
   "cell_type": "code",
   "execution_count": 97,
   "metadata": {},
   "outputs": [],
   "source": [
    "svc_training_time = time.time()"
   ]
  },
  {
   "cell_type": "markdown",
   "metadata": {},
   "source": [
    "Fit the model and PCA within the pipeline on the training features and targets"
   ]
  },
  {
   "cell_type": "code",
   "execution_count": 98,
   "metadata": {},
   "outputs": [
    {
     "data": {
      "text/plain": [
       "Pipeline(steps=[('pca', PCA(n_components=0.95)),\n",
       "                ('svc_model', SVC(C=25, gamma='auto', random_state=42))])"
      ]
     },
     "execution_count": 98,
     "metadata": {},
     "output_type": "execute_result"
    }
   ],
   "source": [
    "svc_pipeline.fit(features_train, target_train)"
   ]
  },
  {
   "cell_type": "markdown",
   "metadata": {},
   "source": [
    "Check the amount of time taken to train the model"
   ]
  },
  {
   "cell_type": "code",
   "execution_count": 99,
   "metadata": {},
   "outputs": [
    {
     "name": "stdout",
     "output_type": "stream",
     "text": [
      "Training Time:  4.289093017578125\n"
     ]
    }
   ],
   "source": [
    "print(\"SVC Training Time: \", time.time()-svc_training_time)"
   ]
  },
  {
   "cell_type": "code",
   "execution_count": null,
   "metadata": {},
   "outputs": [],
   "source": [
    "print(\"\\n\")"
   ]
  },
  {
   "cell_type": "markdown",
   "metadata": {},
   "source": [
    "Check the accuracy of the model in the pipeline on the training data"
   ]
  },
  {
   "cell_type": "code",
   "execution_count": 57,
   "metadata": {},
   "outputs": [
    {
     "name": "stdout",
     "output_type": "stream",
     "text": [
      "SVC Coefficient of Determination - Training Data:  0.9440781995908161\n"
     ]
    }
   ],
   "source": [
    "print(\"SVC Coefficient of Determination - Training Data: \", svc_pipeline.score(features_train, target_train))"
   ]
  },
  {
   "cell_type": "code",
   "execution_count": null,
   "metadata": {},
   "outputs": [],
   "source": [
    "print(\"\\n\")"
   ]
  },
  {
   "cell_type": "markdown",
   "metadata": {},
   "source": [
    "Check the accuracy of the model in the pipeline on the testing data"
   ]
  },
  {
   "cell_type": "code",
   "execution_count": 58,
   "metadata": {},
   "outputs": [
    {
     "name": "stdout",
     "output_type": "stream",
     "text": [
      "SVC Coefficient of Determination - Testing Data:  0.9233333333333333\n"
     ]
    }
   ],
   "source": [
    "print(\"SVC Coefficient of Determination - Testing Data: \", svc_pipeline.score(features_test, target_test))"
   ]
  },
  {
   "cell_type": "code",
   "execution_count": null,
   "metadata": {},
   "outputs": [],
   "source": [
    "print(\"\\n\")"
   ]
  },
  {
   "cell_type": "markdown",
   "metadata": {},
   "source": [
    "Check cross-validation score over 5 K-folds of the model on training data in the pipeline"
   ]
  },
  {
   "cell_type": "code",
   "execution_count": 59,
   "metadata": {},
   "outputs": [
    {
     "name": "stdout",
     "output_type": "stream",
     "text": [
      "SVC - Cross-Validation Score - Training Data: \n",
      " [0.9094697  0.90189394 0.91284577 0.91322471 0.91815081]\n"
     ]
    }
   ],
   "source": [
    "print(\"SVC - Cross-Validation Score - Training Data: \" + \"\\n\", cross_val_score(svc_pipeline, features_train, target_train, cv=5))"
   ]
  },
  {
   "cell_type": "code",
   "execution_count": null,
   "metadata": {},
   "outputs": [],
   "source": [
    "print(\"\\n\")"
   ]
  },
  {
   "cell_type": "markdown",
   "metadata": {},
   "source": [
    "Check cross-validation score over 5 K-folds of the model on testing data in the pipeline"
   ]
  },
  {
   "cell_type": "code",
   "execution_count": 60,
   "metadata": {},
   "outputs": [
    {
     "name": "stdout",
     "output_type": "stream",
     "text": [
      "SVC - Cross-Validation Score - Testing Data: \n",
      " [0.86363636 0.88939394 0.88030303 0.87121212 0.89545455]\n"
     ]
    }
   ],
   "source": [
    "print(\"SVC - Cross-Validation Score - Testing Data: \" + \"\\n\", cross_val_score(svc_pipeline, features_test, target_test, cv=5))"
   ]
  },
  {
   "cell_type": "code",
   "execution_count": null,
   "metadata": {},
   "outputs": [],
   "source": [
    "print(\"\\n\")"
   ]
  },
  {
   "cell_type": "markdown",
   "metadata": {},
   "source": [
    "Predict the accuracy of the target classification based on the PCA transformed testing features"
   ]
  },
  {
   "cell_type": "code",
   "execution_count": 61,
   "metadata": {},
   "outputs": [
    {
     "name": "stdout",
     "output_type": "stream",
     "text": [
      "Support Vector Classifier Prediction - Testing Data:  0.9233333333333333\n"
     ]
    }
   ],
   "source": [
    "svc_target_test_pred = svc_pipeline.predict(features_test)\n",
    "print(\"Support Vector Classifier Prediction - Testing Data: \", metrics.accuracy_score(\n",
    "    target_test, svc_target_test_pred))"
   ]
  },
  {
   "cell_type": "code",
   "execution_count": null,
   "metadata": {},
   "outputs": [],
   "source": [
    "print(\"\\n\")"
   ]
  },
  {
   "cell_type": "markdown",
   "metadata": {},
   "source": [
    "Print the classification report for this model to check the recall and f1 score on the testing data"
   ]
  },
  {
   "cell_type": "code",
   "execution_count": 62,
   "metadata": {},
   "outputs": [
    {
     "name": "stdout",
     "output_type": "stream",
     "text": [
      "Classification Report - SVC: \n",
      "               precision    recall  f1-score   support\n",
      "\n",
      "     AIRPORT       0.96      0.92      0.94       142\n",
      "         BAD       0.81      0.95      0.88       219\n",
      "         BUS       0.98      0.96      0.97       291\n",
      "         CAR       0.90      0.89      0.90       113\n",
      "       DRINK       0.89      0.94      0.91       182\n",
      "   EXCUSE_ME       0.92      0.83      0.87       180\n",
      "        FOOD       0.90      0.93      0.91       142\n",
      "        GOOD       0.93      0.93      0.93       312\n",
      "       HELLO       0.93      0.95      0.94       211\n",
      "           I       0.91      0.91      0.91       196\n",
      "        NAME       0.95      0.93      0.94       213\n",
      "       PLANE       0.95      0.88      0.92       119\n",
      "  RESTAURANT       0.92      0.86      0.89       112\n",
      "       SORRY       0.98      0.96      0.97       128\n",
      "        TAXI       0.94      0.90      0.91       210\n",
      "      THANKS       0.93      0.96      0.95       207\n",
      "        TIME       0.87      0.81      0.84       108\n",
      "         YOU       0.95      0.98      0.97       215\n",
      "\n",
      "    accuracy                           0.92      3300\n",
      "   macro avg       0.92      0.92      0.92      3300\n",
      "weighted avg       0.92      0.92      0.92      3300\n",
      "\n"
     ]
    }
   ],
   "source": [
    "print(\"Classification Report - SVC: \" + \"\\n\", metrics.classification_report(target_test, svc_target_test_pred))"
   ]
  },
  {
   "cell_type": "markdown",
   "metadata": {},
   "source": [
    "Show the test predictions made on a confusion matrix"
   ]
  },
  {
   "cell_type": "code",
   "execution_count": 63,
   "metadata": {},
   "outputs": [],
   "source": [
    "svc_test_cm = metrics.confusion_matrix(target_test, svc_target_test_pred)"
   ]
  },
  {
   "cell_type": "markdown",
   "metadata": {},
   "source": [
    "Set the axis labels for the Confusion Matrices"
   ]
  },
  {
   "cell_type": "code",
   "execution_count": 64,
   "metadata": {},
   "outputs": [],
   "source": [
    "x_cm_labels = bsl_data.CLASS.unique()\n",
    "y_cm_labels = bsl_data.CLASS.unique()"
   ]
  },
  {
   "cell_type": "code",
   "execution_count": null,
   "metadata": {},
   "outputs": [],
   "source": [
    "print(\"\\n\")"
   ]
  },
  {
   "cell_type": "markdown",
   "metadata": {},
   "source": [
    "Visualise the confusion matrix for the testing subset using matplotlib and Seaborn"
   ]
  },
  {
   "cell_type": "code",
   "execution_count": 65,
   "metadata": {},
   "outputs": [
    {
     "name": "stdout",
     "output_type": "stream",
     "text": [
      "Confusion Matrix - Support Vector Classifier Prediction - Testing Data\n"
     ]
    },
    {
     "data": {
      "image/png": "[encoded data removed]",
      "text/plain": [
       "<Figure size 648x648 with 2 Axes>"
      ]
     },
     "metadata": {
      "needs_background": "light"
     },
     "output_type": "display_data"
    }
   ],
   "source": [
    "print(\"Confusion Matrix - Support Vector Classifier Prediction - Testing Data\")\n",
    "svc_ax = plt.subplots(figsize=(9, 9))\n",
    "svc_ax = plt.title('SVC Testing Subset - Confusion Matrix', fontsize=18)\n",
    "svc_ax = sns.heatmap(svc_test_cm, xticklabels=x_cm_labels, yticklabels=y_cm_labels, square=True, annot=True,\n",
    "                    fmt=\"d\", cbar=True, linewidths=.5)\n",
    "plt.show()"
   ]
  },
  {
   "cell_type": "code",
   "execution_count": null,
   "metadata": {},
   "outputs": [],
   "source": [
    "print(\"\\n\")"
   ]
  },
  {
   "cell_type": "markdown",
   "metadata": {},
   "source": [
    "%% 5.2 K-Nearest Neighbour Model"
   ]
  },
  {
   "cell_type": "markdown",
   "metadata": {},
   "source": [
    "Initialise the model with the necessary hyperparameters<br>\n",
    "The number of neighbours for the model might change in order to improve accuracy<br>\n",
    "Default is 5 n_neighbors"
   ]
  },
  {
   "cell_type": "code",
   "execution_count": 66,
   "metadata": {},
   "outputs": [],
   "source": [
    "knn = KNeighborsClassifier()"
   ]
  },
  {
   "cell_type": "markdown",
   "metadata": {},
   "source": [
    "Create the pipeline that fits both the PCA and model to the training subset of data"
   ]
  },
  {
   "cell_type": "code",
   "execution_count": 67,
   "metadata": {},
   "outputs": [],
   "source": [
    "knn_pipe = list()\n",
    "knn_pipe.append(('pca', pca))\n",
    "knn_pipe.append(('knn_model', knn))\n",
    "knn_pipeline = Pipeline(knn_pipe)"
   ]
  },
  {
   "cell_type": "markdown",
   "metadata": {},
   "source": [
    "Declare a variable that stores the time taken to train the model"
   ]
  },
  {
   "cell_type": "code",
   "execution_count": 68,
   "metadata": {},
   "outputs": [],
   "source": [
    "knn_training_time = time.time()"
   ]
  },
  {
   "cell_type": "markdown",
   "metadata": {},
   "source": [
    "Fit the pipeline on the training features and targets"
   ]
  },
  {
   "cell_type": "code",
   "execution_count": 69,
   "metadata": {},
   "outputs": [
    {
     "data": {
      "text/plain": [
       "Pipeline(steps=[('pca', PCA(n_components=0.95)),\n",
       "                ('knn_model', KNeighborsClassifier())])"
      ]
     },
     "execution_count": 69,
     "metadata": {},
     "output_type": "execute_result"
    }
   ],
   "source": [
    "knn_pipeline.fit(features_train, target_train)"
   ]
  },
  {
   "cell_type": "markdown",
   "metadata": {},
   "source": [
    "Check the amount of time taken to train the model"
   ]
  },
  {
   "cell_type": "code",
   "execution_count": 70,
   "metadata": {},
   "outputs": [
    {
     "name": "stdout",
     "output_type": "stream",
     "text": [
      "Training Time:  3.1735148429870605\n"
     ]
    }
   ],
   "source": [
    "print(\"K-NN Training Time: \", time.time()-knn_training_time)"
   ]
  },
  {
   "cell_type": "code",
   "execution_count": null,
   "metadata": {},
   "outputs": [],
   "source": [
    "print(\"\\n\")"
   ]
  },
  {
   "cell_type": "markdown",
   "metadata": {},
   "source": [
    "Check the accuracy of the model in the pipeline on the training data"
   ]
  },
  {
   "cell_type": "code",
   "execution_count": 71,
   "metadata": {},
   "outputs": [
    {
     "name": "stdout",
     "output_type": "stream",
     "text": [
      "K-NN Coefficient of Determination - Training Data:  0.9353640979010381\n"
     ]
    }
   ],
   "source": [
    "print(\"K-NN Coefficient of Determination - Training Data: \", knn_pipeline.score(features_train, target_train))"
   ]
  },
  {
   "cell_type": "code",
   "execution_count": null,
   "metadata": {},
   "outputs": [],
   "source": [
    "print(\"\\n\")"
   ]
  },
  {
   "cell_type": "markdown",
   "metadata": {},
   "source": [
    "Check the accuracy of the model in the pipeline on the testing data"
   ]
  },
  {
   "cell_type": "code",
   "execution_count": 72,
   "metadata": {},
   "outputs": [
    {
     "name": "stdout",
     "output_type": "stream",
     "text": [
      "K-NN Coefficient of Determination - Testing Data:  0.9124242424242425\n"
     ]
    }
   ],
   "source": [
    "print(\"K-NN Coefficient of Determination - Testing Data: \", knn_pipeline.score(features_test, target_test))"
   ]
  },
  {
   "cell_type": "code",
   "execution_count": null,
   "metadata": {},
   "outputs": [],
   "source": [
    "print(\"\\n\")"
   ]
  },
  {
   "cell_type": "markdown",
   "metadata": {},
   "source": [
    "Check cross-validation score over 5 K-folds of the model on training data in the pipeline"
   ]
  },
  {
   "cell_type": "code",
   "execution_count": 73,
   "metadata": {},
   "outputs": [
    {
     "name": "stdout",
     "output_type": "stream",
     "text": [
      "K-NN - Cross-Validation Score - Training Data: \n",
      " [0.89431818 0.88484848 0.90488822 0.90299356 0.9022357 ]\n"
     ]
    }
   ],
   "source": [
    "print(\"K-NN - Cross-Validation Score - Training Data: \" + \"\\n\", cross_val_score(knn_pipeline, features_train, target_train, cv=5))"
   ]
  },
  {
   "cell_type": "code",
   "execution_count": null,
   "metadata": {},
   "outputs": [],
   "source": [
    "print(\"\\n\")"
   ]
  },
  {
   "cell_type": "markdown",
   "metadata": {},
   "source": [
    "Check cross-validation score over 5 K-folds of the model on testing data in the pipeline"
   ]
  },
  {
   "cell_type": "code",
   "execution_count": 74,
   "metadata": {},
   "outputs": [
    {
     "name": "stdout",
     "output_type": "stream",
     "text": [
      "K-NN - Cross-Validation Score - Testing Data: \n",
      " [0.82878788 0.85151515 0.85       0.83030303 0.84848485]\n"
     ]
    }
   ],
   "source": [
    "print(\"K-NN - Cross-Validation Score - Testing Data: \" + \"\\n\", cross_val_score(knn_pipeline, features_test, target_test, cv=5))"
   ]
  },
  {
   "cell_type": "code",
   "execution_count": null,
   "metadata": {},
   "outputs": [],
   "source": [
    "print(\"\\n\")"
   ]
  },
  {
   "cell_type": "markdown",
   "metadata": {},
   "source": [
    "Predict the accuracy of the target classification based on the PCA transformed testing features"
   ]
  },
  {
   "cell_type": "code",
   "execution_count": 75,
   "metadata": {},
   "outputs": [
    {
     "name": "stdout",
     "output_type": "stream",
     "text": [
      "K-Nearest Neighbours Prediction - Testing Data:  0.9124242424242425\n"
     ]
    }
   ],
   "source": [
    "knn_target_test_pred = knn_pipeline.predict(features_test)\n",
    "print(\"K-Nearest Neighbours Prediction - Testing Data: \",\n",
    "      metrics.accuracy_score(target_test, knn_target_test_pred))"
   ]
  },
  {
   "cell_type": "code",
   "execution_count": null,
   "metadata": {},
   "outputs": [],
   "source": [
    "print(\"\\n\")"
   ]
  },
  {
   "cell_type": "markdown",
   "metadata": {},
   "source": [
    "Print the classification report for this model to check the recall and f1 score on the testing data"
   ]
  },
  {
   "cell_type": "code",
   "execution_count": 76,
   "metadata": {},
   "outputs": [
    {
     "name": "stdout",
     "output_type": "stream",
     "text": [
      "Classification Report - K-Nearest Neighbours: \n",
      "               precision    recall  f1-score   support\n",
      "\n",
      "     AIRPORT       0.92      0.90      0.91       142\n",
      "         BAD       0.82      0.90      0.86       219\n",
      "         BUS       0.95      0.95      0.95       291\n",
      "         CAR       0.91      0.89      0.90       113\n",
      "       DRINK       0.90      0.94      0.92       182\n",
      "   EXCUSE_ME       0.84      0.82      0.83       180\n",
      "        FOOD       0.87      0.87      0.87       142\n",
      "        GOOD       0.95      0.92      0.93       312\n",
      "       HELLO       0.96      0.93      0.94       211\n",
      "           I       0.89      0.91      0.90       196\n",
      "        NAME       0.93      0.93      0.93       213\n",
      "       PLANE       0.91      0.87      0.89       119\n",
      "  RESTAURANT       0.89      0.88      0.88       112\n",
      "       SORRY       0.95      0.96      0.96       128\n",
      "        TAXI       0.90      0.88      0.89       210\n",
      "      THANKS       0.92      0.97      0.94       207\n",
      "        TIME       0.88      0.80      0.83       108\n",
      "         YOU       0.97      0.96      0.97       215\n",
      "\n",
      "    accuracy                           0.91      3300\n",
      "   macro avg       0.91      0.91      0.91      3300\n",
      "weighted avg       0.91      0.91      0.91      3300\n",
      "\n"
     ]
    }
   ],
   "source": [
    "print(\"Classification Report - K-Nearest Neighbours: \" + \"\\n\", metrics.classification_report(target_test, knn_target_test_pred))"
   ]
  },
  {
   "cell_type": "markdown",
   "metadata": {},
   "source": [
    "Show the testing predictions made on a confusion matrix"
   ]
  },
  {
   "cell_type": "code",
   "execution_count": 77,
   "metadata": {},
   "outputs": [],
   "source": [
    "knn_test_cm = metrics.confusion_matrix(target_test, knn_target_test_pred)"
   ]
  },
  {
   "cell_type": "code",
   "execution_count": null,
   "metadata": {},
   "outputs": [],
   "source": [
    "print(\"\\n\")"
   ]
  },
  {
   "cell_type": "markdown",
   "metadata": {},
   "source": [
    "Visualise the confusion matrix using matplotlib and Seaborn"
   ]
  },
  {
   "cell_type": "code",
   "execution_count": 78,
   "metadata": {},
   "outputs": [
    {
     "name": "stdout",
     "output_type": "stream",
     "text": [
      "Confusion Matrix - K-Nearest Neighbours Prediction - Testing Data\n"
     ]
    },
    {
     "data": {
      "image/png": "[encoded data removed]",
      "text/plain": [
       "<Figure size 648x648 with 2 Axes>"
      ]
     },
     "metadata": {
      "needs_background": "light"
     },
     "output_type": "display_data"
    }
   ],
   "source": [
    "print(\"Confusion Matrix - K-Nearest Neighbours Prediction - Testing Data\")\n",
    "knn_ax = plt.subplots(figsize=(9, 9))\n",
    "knn_ax = plt.title('KNN Testing Subset - Confusion Matrix' , fontsize=18)\n",
    "knn_ax = sns.heatmap(knn_test_cm, xticklabels=x_cm_labels, yticklabels=y_cm_labels, square=True, annot=True,\n",
    "                      fmt=\"d\", cbar=True, linewidths=.5)\n",
    "plt.show()"
   ]
  },
  {
   "cell_type": "code",
   "execution_count": null,
   "metadata": {},
   "outputs": [],
   "source": [
    "print(\"\\n\")"
   ]
  },
  {
   "cell_type": "markdown",
   "metadata": {},
   "source": [
    "%% 5.3 Random Forests Model"
   ]
  },
  {
   "cell_type": "markdown",
   "metadata": {},
   "source": [
    "Initialise the model with the necessary hyperparameters"
   ]
  },
  {
   "cell_type": "code",
   "execution_count": 79,
   "metadata": {},
   "outputs": [],
   "source": [
    "rfc = RandomForestClassifier()"
   ]
  },
  {
   "cell_type": "markdown",
   "metadata": {},
   "source": [
    "Create the pipeline that fits both the PCA and model to the training subset of data"
   ]
  },
  {
   "cell_type": "code",
   "execution_count": 80,
   "metadata": {},
   "outputs": [],
   "source": [
    "rfc_pipe = list()\n",
    "rfc_pipe.append(('pca', pca))\n",
    "rfc_pipe.append(('rfc_model', rfc))\n",
    "rfc_pipeline = Pipeline(rfc_pipe)"
   ]
  },
  {
   "cell_type": "markdown",
   "metadata": {},
   "source": [
    "Declare a variable that stores the time taken to train the model"
   ]
  },
  {
   "cell_type": "code",
   "execution_count": 81,
   "metadata": {},
   "outputs": [],
   "source": [
    "rfc_training_time = time.time()"
   ]
  },
  {
   "cell_type": "markdown",
   "metadata": {},
   "source": [
    "Fit the model on the training features and targets"
   ]
  },
  {
   "cell_type": "code",
   "execution_count": 82,
   "metadata": {},
   "outputs": [
    {
     "data": {
      "text/plain": [
       "Pipeline(steps=[('pca', PCA(n_components=0.95)),\n",
       "                ('rfc_model', RandomForestClassifier())])"
      ]
     },
     "execution_count": 82,
     "metadata": {},
     "output_type": "execute_result"
    }
   ],
   "source": [
    "rfc_pipeline.fit(features_train, target_train)"
   ]
  },
  {
   "cell_type": "markdown",
   "metadata": {},
   "source": [
    "Check the amount of time taken to train the model"
   ]
  },
  {
   "cell_type": "code",
   "execution_count": 83,
   "metadata": {},
   "outputs": [
    {
     "name": "stdout",
     "output_type": "stream",
     "text": [
      "Training Time:  7.7693164348602295\n"
     ]
    }
   ],
   "source": [
    "print(\"Random Forest Training Time: \", time.time()-rfc_training_time)"
   ]
  },
  {
   "cell_type": "code",
   "execution_count": null,
   "metadata": {},
   "outputs": [],
   "source": [
    "print(\"\\n\")"
   ]
  },
  {
   "cell_type": "markdown",
   "metadata": {},
   "source": [
    "Check the accuracy of the model in the pipeline on the training data"
   ]
  },
  {
   "cell_type": "code",
   "execution_count": 84,
   "metadata": {},
   "outputs": [
    {
     "name": "stdout",
     "output_type": "stream",
     "text": [
      "Random Forest Coefficient of Determination - Training Data:  1.0\n"
     ]
    }
   ],
   "source": [
    "print(\"Random Forest Coefficient of Determination - Training Data: \", rfc_pipeline.score(features_train, target_train))"
   ]
  },
  {
   "cell_type": "code",
   "execution_count": null,
   "metadata": {},
   "outputs": [],
   "source": [
    "print(\"\\n\")"
   ]
  },
  {
   "cell_type": "markdown",
   "metadata": {},
   "source": [
    "Check the accuracy of the model in the pipeline on the testing data"
   ]
  },
  {
   "cell_type": "code",
   "execution_count": 85,
   "metadata": {},
   "outputs": [
    {
     "name": "stdout",
     "output_type": "stream",
     "text": [
      "Random Forest Coefficient of Determination - Testing Data:  0.9227272727272727\n"
     ]
    }
   ],
   "source": [
    "print(\"Random Forest Coefficient of Determination - Testing Data: \", rfc_pipeline.score(features_test, target_test))"
   ]
  },
  {
   "cell_type": "code",
   "execution_count": null,
   "metadata": {},
   "outputs": [],
   "source": [
    "print(\"\\n\")"
   ]
  },
  {
   "cell_type": "markdown",
   "metadata": {},
   "source": [
    "Check cross-validation score over 5 K-folds of the model on training data in the pipeline"
   ]
  },
  {
   "cell_type": "code",
   "execution_count": 86,
   "metadata": {},
   "outputs": [
    {
     "name": "stdout",
     "output_type": "stream",
     "text": [
      "Random Forest Classifier - Cross-Validation Score - Training Data: \n",
      " [0.90833333 0.90151515 0.91322471 0.91511936 0.91625616]\n"
     ]
    }
   ],
   "source": [
    "print(\"Random Forest Classifier - Cross-Validation Score - Training Data: \" + \"\\n\", cross_val_score(rfc_pipeline, features_train, target_train, cv=5))"
   ]
  },
  {
   "cell_type": "code",
   "execution_count": null,
   "metadata": {},
   "outputs": [],
   "source": [
    "print(\"\\n\")"
   ]
  },
  {
   "cell_type": "markdown",
   "metadata": {},
   "source": [
    "Check cross-validation score over 5 K-folds of the model on testing data in the pipeline"
   ]
  },
  {
   "cell_type": "code",
   "execution_count": 87,
   "metadata": {},
   "outputs": [
    {
     "name": "stdout",
     "output_type": "stream",
     "text": [
      "Random Forest Classifier - Cross-Validation Score - Testing Data: \n",
      " [0.84848485 0.87272727 0.86363636 0.86515152 0.87272727]\n"
     ]
    }
   ],
   "source": [
    "print(\"Random Forest Classifier - Cross-Validation Score - Testing Data: \" + \"\\n\", cross_val_score(rfc_pipeline, features_test, target_test, cv=5))"
   ]
  },
  {
   "cell_type": "code",
   "execution_count": null,
   "metadata": {},
   "outputs": [],
   "source": [
    "print(\"\\n\")"
   ]
  },
  {
   "cell_type": "markdown",
   "metadata": {},
   "source": [
    "Predict the accuracy of the target classification based on the PCA transformed testing features"
   ]
  },
  {
   "cell_type": "code",
   "execution_count": 88,
   "metadata": {},
   "outputs": [
    {
     "name": "stdout",
     "output_type": "stream",
     "text": [
      "Random Forest Classifier Prediction - Testing Data:  0.9227272727272727\n"
     ]
    }
   ],
   "source": [
    "rfc_target_test_pred = rfc_pipeline.predict(features_test)\n",
    "print(\"Random Forest Classifier Prediction - Testing Data: \",\n",
    "      metrics.accuracy_score(target_test, rfc_target_test_pred))"
   ]
  },
  {
   "cell_type": "code",
   "execution_count": null,
   "metadata": {},
   "outputs": [],
   "source": [
    "print(\"\\n\")"
   ]
  },
  {
   "cell_type": "markdown",
   "metadata": {},
   "source": [
    "Print the classification report for this model to check the recall and f1 score on the testing data"
   ]
  },
  {
   "cell_type": "code",
   "execution_count": 89,
   "metadata": {},
   "outputs": [
    {
     "name": "stdout",
     "output_type": "stream",
     "text": [
      "Classification Report - Random Forest Classifier: \n",
      "               precision    recall  f1-score   support\n",
      "\n",
      "     AIRPORT       0.93      0.88      0.90       142\n",
      "         BAD       0.83      0.91      0.87       219\n",
      "         BUS       0.96      0.94      0.95       291\n",
      "         CAR       0.96      0.90      0.93       113\n",
      "       DRINK       0.89      0.96      0.92       182\n",
      "   EXCUSE_ME       0.88      0.85      0.87       180\n",
      "        FOOD       0.90      0.91      0.91       142\n",
      "        GOOD       0.95      0.93      0.94       312\n",
      "       HELLO       0.95      0.91      0.93       211\n",
      "           I       0.91      0.91      0.91       196\n",
      "        NAME       0.94      0.94      0.94       213\n",
      "       PLANE       0.94      0.90      0.92       119\n",
      "  RESTAURANT       0.88      0.91      0.89       112\n",
      "       SORRY       0.97      0.96      0.96       128\n",
      "        TAXI       0.90      0.90      0.90       210\n",
      "      THANKS       0.95      0.98      0.97       207\n",
      "        TIME       0.90      0.88      0.89       108\n",
      "         YOU       0.95      0.97      0.96       215\n",
      "\n",
      "    accuracy                           0.92      3300\n",
      "   macro avg       0.92      0.92      0.92      3300\n",
      "weighted avg       0.92      0.92      0.92      3300\n",
      "\n"
     ]
    }
   ],
   "source": [
    "print(\"Classification Report - Random Forest Classifier: \" + \"\\n\", metrics.classification_report(target_test, rfc_target_test_pred))"
   ]
  },
  {
   "cell_type": "markdown",
   "metadata": {},
   "source": [
    "Show the testing predictions made on a confusion matrix"
   ]
  },
  {
   "cell_type": "code",
   "execution_count": 90,
   "metadata": {},
   "outputs": [],
   "source": [
    "rfc_test_cm = metrics.confusion_matrix(target_test, rfc_target_test_pred)"
   ]
  },
  {
   "cell_type": "code",
   "execution_count": null,
   "metadata": {},
   "outputs": [],
   "source": [
    "print(\"\\n\")"
   ]
  },
  {
   "cell_type": "markdown",
   "metadata": {},
   "source": [
    "Visualise the confusion matrix using matplotlib and Seaborn"
   ]
  },
  {
   "cell_type": "code",
   "execution_count": 91,
   "metadata": {},
   "outputs": [
    {
     "name": "stdout",
     "output_type": "stream",
     "text": [
      "Confusion Matrix - Random Forest Prediction - Testing Data\n"
     ]
    },
    {
     "data": {
      "image/png": "[encoded data removed]",
      "text/plain": [
       "<Figure size 648x648 with 2 Axes>"
      ]
     },
     "metadata": {
      "needs_background": "light"
     },
     "output_type": "display_data"
    }
   ],
   "source": [
    "print(\"Confusion Matrix - Random Forest Prediction - Testing Data\")\n",
    "rfc_ax = plt.subplots(figsize=(9, 9))\n",
    "rfc_ax = plt.title('Random Forest Testing Subset - Confusion Matrix', fontsize=18)\n",
    "rfc_ax = sns.heatmap(rfc_test_cm, xticklabels=x_cm_labels, yticklabels=y_cm_labels, square=True, annot=True,\n",
    "                      fmt=\"d\", cbar=True, linewidths=.5)\n",
    "plt.show()"
   ]
  },
  {
   "cell_type": "code",
   "execution_count": null,
   "metadata": {},
   "outputs": [],
   "source": [
    "print(\"\\n\")"
   ]
  },
  {
   "cell_type": "markdown",
   "metadata": {},
   "source": [
    "%% 6. Model Accuracy Results"
   ]
  },
  {
   "cell_type": "markdown",
   "metadata": {},
   "source": [
    "Visualise the accuracy for each learning"
   ]
  },
  {
   "cell_type": "code",
   "execution_count": null,
   "metadata": {},
   "outputs": [],
   "source": [
    "print(\"Overall accuracy for each learning\")"
   ]
  },
  {
   "cell_type": "markdown",
   "metadata": {},
   "source": [
    "Create the DataFrame containing the results from each model"
   ]
  },
  {
   "cell_type": "code",
   "execution_count": 92,
   "metadata": {},
   "outputs": [],
   "source": [
    "accuracy_scores_DF = pd.DataFrame([['Support Vector Classifier', metrics.accuracy_score(target_test, svc_target_test_pred)],\n",
    "                                    ['K-Nearest Neighbours',\n",
    "                                        metrics.accuracy_score(target_test, knn_target_test_pred)],\n",
    "                                    ['Random Forest Classifier', metrics.accuracy_score(target_test, rfc_target_test_pred)]],\n",
    "                                  columns=['Models', 'Accuracy'])"
   ]
  },
  {
   "cell_type": "markdown",
   "metadata": {},
   "source": [
    "Reshape the DataFrame using pandas.melt"
   ]
  },
  {
   "cell_type": "code",
   "execution_count": 93,
   "metadata": {},
   "outputs": [],
   "source": [
    "accuracy_scores_DF = pd.melt(\n",
    "    frame=accuracy_scores_DF, id_vars='Models', var_name='Accuracy', value_name='Level of Accuracy')"
   ]
  },
  {
   "cell_type": "markdown",
   "metadata": {},
   "source": [
    "Print the resulting DataFrame"
   ]
  },
  {
   "cell_type": "code",
   "execution_count": 94,
   "metadata": {},
   "outputs": [
    {
     "name": "stdout",
     "output_type": "stream",
     "text": [
      "Overall Accuracy Scores:  \n",
      "                       Models  Accuracy  Level of Accuracy\n",
      "0  Support Vector Classifier  Accuracy           0.923333\n",
      "1       K-Nearest Neighbours  Accuracy           0.912424\n",
      "2   Random Forest Classifier  Accuracy           0.922727\n"
     ]
    }
   ],
   "source": [
    "print(\"Overall Accuracy Scores: \", \"\\n\", accuracy_scores_DF)"
   ]
  },
  {
   "cell_type": "code",
   "execution_count": null,
   "metadata": {},
   "outputs": [],
   "source": [
    "print(\"\\n\")"
   ]
  },
  {
   "cell_type": "markdown",
   "metadata": {},
   "source": [
    "Plot the DataFrame as a Barplot"
   ]
  },
  {
   "cell_type": "code",
   "execution_count": 95,
   "metadata": {},
   "outputs": [
    {
     "name": "stdout",
     "output_type": "stream",
     "text": [
      "Model Classification Accuracy Scores\n"
     ]
    },
    {
     "data": {
      "image/png": "[encoded data removed]",
      "text/plain": [
       "<Figure size 576x576 with 1 Axes>"
      ]
     },
     "metadata": {
      "needs_background": "light"
     },
     "output_type": "display_data"
    }
   ],
   "source": [
    "print(\"Model Classification Accuracy Scores\")\n",
    "accuracy_scores_plot = plt.subplots(figsize=(8, 8))\n",
    "accuracy_scores_plot = plt.title(\"Model Classification Accuracy Scores\", fontsize=18)\n",
    "accuracy_scores_plot = sns.barplot(\n",
    "    data=accuracy_scores_DF, x='Models', y='Level of Accuracy')\n",
    "plt.show()"
   ]
  },
  {
   "cell_type": "markdown",
   "metadata": {},
   "source": [
    "%% 7. Export DataFrames"
   ]
  },
  {
   "cell_type": "markdown",
   "metadata": {},
   "source": [
    "Raw input data"
   ]
  },
  {
   "cell_type": "code",
   "execution_count": null,
   "metadata": {},
   "outputs": [],
   "source": [
    "bsl_data.to_csv(r'C:\\Users\\laptop\\Documents\\TU - Modules\\Machine Learning\\ICA Assignment\\B1662096_Thomas_Popham\\ICA Element 1 - Application\\DataFrames\\RAW_data.csv')"
   ]
  },
  {
   "cell_type": "markdown",
   "metadata": {},
   "source": [
    "Dataset features"
   ]
  },
  {
   "cell_type": "code",
   "execution_count": null,
   "metadata": {},
   "outputs": [],
   "source": [
    "bsl_data_features.to_csv(r'C:\\Users\\laptop\\Documents\\TU - Modules\\Machine Learning\\ICA Assignment\\B1662096_Thomas_Popham\\ICA Element 1 - Application\\DataFrames\\FEATURES_data.csv')"
   ]
  },
  {
   "cell_type": "markdown",
   "metadata": {},
   "source": [
    "Dataset targets"
   ]
  },
  {
   "cell_type": "code",
   "execution_count": null,
   "metadata": {},
   "outputs": [],
   "source": [
    "bsl_data_targets.to_csv(r'C:\\Users\\laptop\\Documents\\TU - Modules\\Machine Learning\\ICA Assignment\\B1662096_Thomas_Popham\\ICA Element 1 - Application\\DataFrames\\TARGETS_data.csv')"
   ]
  },
  {
   "cell_type": "markdown",
   "metadata": {},
   "source": [
    "Scaled dataset features"
   ]
  },
  {
   "cell_type": "code",
   "execution_count": null,
   "metadata": {},
   "outputs": [],
   "source": [
    "scaled_bsl_data.to_csv(r'C:\\Users\\laptop\\Documents\\TU - Modules\\Machine Learning\\ICA Assignment\\B1662096_Thomas_Popham\\ICA Element 1 - Application\\DataFrames\\SCALED_FEATURES_data.csv')"
   ]
  },
  {
   "cell_type": "markdown",
   "metadata": {},
   "source": [
    "PCA Components training features"
   ]
  },
  {
   "cell_type": "code",
   "execution_count": null,
   "metadata": {},
   "outputs": [],
   "source": [
    "pca_train_features_DF.to_csv(r'C:\\Users\\laptop\\Documents\\TU - Modules\\Machine Learning\\ICA Assignment\\B1662096_Thomas_Popham\\ICA Element 1 - Application\\DataFrames\\PCA_TRAIN_FEATURES_data.csv')"
   ]
  },
  {
   "cell_type": "markdown",
   "metadata": {},
   "source": [
    "PCA Components testing features"
   ]
  },
  {
   "cell_type": "code",
   "execution_count": null,
   "metadata": {},
   "outputs": [],
   "source": [
    "pca_test_features_DF.to_csv(r'C:\\Users\\laptop\\Documents\\TU - Modules\\Machine Learning\\ICA Assignment\\B1662096_Thomas_Popham\\ICA Element 1 - Application\\DataFrames\\PCA_TEST_FEATURES_data.csv')"
   ]
  },
  {
   "cell_type": "markdown",
   "metadata": {},
   "source": [
    "PCA Eigenvalues dataset"
   ]
  },
  {
   "cell_type": "code",
   "execution_count": null,
   "metadata": {},
   "outputs": [],
   "source": [
    "pca_eigenvalues_DF.to_csv(r'C:\\Users\\laptop\\Documents\\TU - Modules\\Machine Learning\\ICA Assignment\\B1662096_Thomas_Popham\\ICA Element 1 - Application\\DataFrames\\PCA_EIGENVALUES_data.csv')"
   ]
  },
  {
   "cell_type": "markdown",
   "metadata": {},
   "source": [
    "Accuracy Scores dataset"
   ]
  },
  {
   "cell_type": "code",
   "execution_count": null,
   "metadata": {},
   "outputs": [],
   "source": [
    "accuracy_scores_DF.to_csv(r'C:\\Users\\laptop\\Documents\\TU - Modules\\Machine Learning\\ICA Assignment\\B1662096_Thomas_Popham\\ICA Element 1 - Application\\DataFrames\\ACCURACY_SCORES_data.csv')"
   ]
  },
  {
   "cell_type": "markdown",
   "metadata": {},
   "source": [
    "Print message once exporting is complete"
   ]
  },
  {
   "cell_type": "code",
   "execution_count": null,
   "metadata": {},
   "outputs": [],
   "source": [
    "print(\"Exporting Complete\")"
   ]
  }
 ],
 "metadata": {
  "kernelspec": {
   "display_name": "Python 3 (ipykernel)",
   "language": "python",
   "name": "python3"
  },
  "language_info": {
   "codemirror_mode": {
    "name": "ipython",
    "version": 3
   },
   "file_extension": ".py",
   "mimetype": "text/x-python",
   "name": "python",
   "nbconvert_exporter": "python",
   "pygments_lexer": "ipython3",
   "version": "3.9.7"
  }
 },
 "nbformat": 4,
 "nbformat_minor": 2
}
